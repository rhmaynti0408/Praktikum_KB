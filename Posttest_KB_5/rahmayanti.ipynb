{
  "cells": [
    {
      "cell_type": "markdown",
      "source": [
        "Gunakan salah satu tipe pendekatan pada supervised learning\n",
        "Gunakan minimal 2 algoritma untuk dibandingkan score terbaiknya\n",
        "Tampilkan score dari model untuk clasifikasi dan tampilkan visualisasi model untuk regresi"
      ],
      "metadata": {
        "id": "WDanZapzwnAX"
      }
    },
    {
      "cell_type": "code",
      "source": [
        "import pandas as pd\n",
        "import matplotlib.pyplot as plt\n",
        "import seaborn as sns\n",
        "import numpy as np\n",
        "\n",
        "\n",
        "from sklearn.impute import SimpleImputer\n",
        "from sklearn.model_selection import train_test_split\n",
        "from sklearn.neighbors import KNeighborsClassifier\n",
        "from sklearn.metrics import accuracy_score\n",
        "from sklearn.model_selection import train_test_split\n",
        "from sklearn.naive_bayes import GaussianNB\n",
        "from sklearn.metrics import accuracy_score"
      ],
      "metadata": {
        "id": "3pWmGnXsrX_M"
      },
      "execution_count": 35,
      "outputs": []
    },
    {
      "cell_type": "code",
      "source": [
        "df = pd.read_csv(\"MEN_SHOES.csv\")\n",
        "df"
      ],
      "metadata": {
        "colab": {
          "base_uri": "https://localhost:8080/",
          "height": 424
        },
        "id": "798ki0KlwQtd",
        "outputId": "3c914fd1-78cb-4af0-87e1-406f9f646174"
      },
      "execution_count": 34,
      "outputs": [
        {
          "output_type": "execute_result",
          "data": {
            "text/plain": [
              "      Brand_Name How_Many_Sold Current_Price  \\\n",
              "0          ASIAN         2,242        ₹1,098   \n",
              "1          ASIAN           240          ₹674   \n",
              "2          ASIAN        16,662          ₹588   \n",
              "3          ASIAN           135          ₹599   \n",
              "4         Reebok           240          ₹982   \n",
              "...          ...           ...           ...   \n",
              "23935     Campus           198          ₹623   \n",
              "23936  Wakefield            49          ₹399   \n",
              "23937       URJO           557          ₹839   \n",
              "23938    FEETEES            63          ₹349   \n",
              "23939       FURO             2        ₹1,299   \n",
              "\n",
              "                                         Product_details  RATING  \n",
              "0      Oxygen-01 Sports Running,Walking & Gym Shoes w...     3.8  \n",
              "1      Men's Express-08 Sports Running,Walking,Gym,Tr...     4.0  \n",
              "2      Men's Cosko Sports Running,Walking,Gym,Trainin...     3.8  \n",
              "3      Wind-03 Sports Running,Walking & Gym Shoes wit...     4.0  \n",
              "4                Men's Velocity Runner Lp Running Shoe       4.0  \n",
              "...                                                  ...     ...  \n",
              "23935                   Men's HARVEL PRO Running Shoes       4.0  \n",
              "23936        Stylish Running Sports Shoes for MEN-2010       3.4  \n",
              "23937                               Mens Running Shoes       4.2  \n",
              "23938  Nexon Men's Casual Eva Socks Knitted Running S...     3.6  \n",
              "23939  Low Ankle Running Sports Shoes for Men (O-5033)       3.0  \n",
              "\n",
              "[23940 rows x 5 columns]"
            ],
            "text/html": [
              "\n",
              "  <div id=\"df-1f035d1e-126c-47ea-8a65-5ea04fd89ca6\">\n",
              "    <div class=\"colab-df-container\">\n",
              "      <div>\n",
              "<style scoped>\n",
              "    .dataframe tbody tr th:only-of-type {\n",
              "        vertical-align: middle;\n",
              "    }\n",
              "\n",
              "    .dataframe tbody tr th {\n",
              "        vertical-align: top;\n",
              "    }\n",
              "\n",
              "    .dataframe thead th {\n",
              "        text-align: right;\n",
              "    }\n",
              "</style>\n",
              "<table border=\"1\" class=\"dataframe\">\n",
              "  <thead>\n",
              "    <tr style=\"text-align: right;\">\n",
              "      <th></th>\n",
              "      <th>Brand_Name</th>\n",
              "      <th>How_Many_Sold</th>\n",
              "      <th>Current_Price</th>\n",
              "      <th>Product_details</th>\n",
              "      <th>RATING</th>\n",
              "    </tr>\n",
              "  </thead>\n",
              "  <tbody>\n",
              "    <tr>\n",
              "      <th>0</th>\n",
              "      <td>ASIAN</td>\n",
              "      <td>2,242</td>\n",
              "      <td>₹1,098</td>\n",
              "      <td>Oxygen-01 Sports Running,Walking &amp; Gym Shoes w...</td>\n",
              "      <td>3.8</td>\n",
              "    </tr>\n",
              "    <tr>\n",
              "      <th>1</th>\n",
              "      <td>ASIAN</td>\n",
              "      <td>240</td>\n",
              "      <td>₹674</td>\n",
              "      <td>Men's Express-08 Sports Running,Walking,Gym,Tr...</td>\n",
              "      <td>4.0</td>\n",
              "    </tr>\n",
              "    <tr>\n",
              "      <th>2</th>\n",
              "      <td>ASIAN</td>\n",
              "      <td>16,662</td>\n",
              "      <td>₹588</td>\n",
              "      <td>Men's Cosko Sports Running,Walking,Gym,Trainin...</td>\n",
              "      <td>3.8</td>\n",
              "    </tr>\n",
              "    <tr>\n",
              "      <th>3</th>\n",
              "      <td>ASIAN</td>\n",
              "      <td>135</td>\n",
              "      <td>₹599</td>\n",
              "      <td>Wind-03 Sports Running,Walking &amp; Gym Shoes wit...</td>\n",
              "      <td>4.0</td>\n",
              "    </tr>\n",
              "    <tr>\n",
              "      <th>4</th>\n",
              "      <td>Reebok</td>\n",
              "      <td>240</td>\n",
              "      <td>₹982</td>\n",
              "      <td>Men's Velocity Runner Lp Running Shoe</td>\n",
              "      <td>4.0</td>\n",
              "    </tr>\n",
              "    <tr>\n",
              "      <th>...</th>\n",
              "      <td>...</td>\n",
              "      <td>...</td>\n",
              "      <td>...</td>\n",
              "      <td>...</td>\n",
              "      <td>...</td>\n",
              "    </tr>\n",
              "    <tr>\n",
              "      <th>23935</th>\n",
              "      <td>Campus</td>\n",
              "      <td>198</td>\n",
              "      <td>₹623</td>\n",
              "      <td>Men's HARVEL PRO Running Shoes</td>\n",
              "      <td>4.0</td>\n",
              "    </tr>\n",
              "    <tr>\n",
              "      <th>23936</th>\n",
              "      <td>Wakefield</td>\n",
              "      <td>49</td>\n",
              "      <td>₹399</td>\n",
              "      <td>Stylish Running Sports Shoes for MEN-2010</td>\n",
              "      <td>3.4</td>\n",
              "    </tr>\n",
              "    <tr>\n",
              "      <th>23937</th>\n",
              "      <td>URJO</td>\n",
              "      <td>557</td>\n",
              "      <td>₹839</td>\n",
              "      <td>Mens Running Shoes</td>\n",
              "      <td>4.2</td>\n",
              "    </tr>\n",
              "    <tr>\n",
              "      <th>23938</th>\n",
              "      <td>FEETEES</td>\n",
              "      <td>63</td>\n",
              "      <td>₹349</td>\n",
              "      <td>Nexon Men's Casual Eva Socks Knitted Running S...</td>\n",
              "      <td>3.6</td>\n",
              "    </tr>\n",
              "    <tr>\n",
              "      <th>23939</th>\n",
              "      <td>FURO</td>\n",
              "      <td>2</td>\n",
              "      <td>₹1,299</td>\n",
              "      <td>Low Ankle Running Sports Shoes for Men (O-5033)</td>\n",
              "      <td>3.0</td>\n",
              "    </tr>\n",
              "  </tbody>\n",
              "</table>\n",
              "<p>23940 rows × 5 columns</p>\n",
              "</div>\n",
              "      <button class=\"colab-df-convert\" onclick=\"convertToInteractive('df-1f035d1e-126c-47ea-8a65-5ea04fd89ca6')\"\n",
              "              title=\"Convert this dataframe to an interactive table.\"\n",
              "              style=\"display:none;\">\n",
              "        \n",
              "  <svg xmlns=\"http://www.w3.org/2000/svg\" height=\"24px\"viewBox=\"0 0 24 24\"\n",
              "       width=\"24px\">\n",
              "    <path d=\"M0 0h24v24H0V0z\" fill=\"none\"/>\n",
              "    <path d=\"M18.56 5.44l.94 2.06.94-2.06 2.06-.94-2.06-.94-.94-2.06-.94 2.06-2.06.94zm-11 1L8.5 8.5l.94-2.06 2.06-.94-2.06-.94L8.5 2.5l-.94 2.06-2.06.94zm10 10l.94 2.06.94-2.06 2.06-.94-2.06-.94-.94-2.06-.94 2.06-2.06.94z\"/><path d=\"M17.41 7.96l-1.37-1.37c-.4-.4-.92-.59-1.43-.59-.52 0-1.04.2-1.43.59L10.3 9.45l-7.72 7.72c-.78.78-.78 2.05 0 2.83L4 21.41c.39.39.9.59 1.41.59.51 0 1.02-.2 1.41-.59l7.78-7.78 2.81-2.81c.8-.78.8-2.07 0-2.86zM5.41 20L4 18.59l7.72-7.72 1.47 1.35L5.41 20z\"/>\n",
              "  </svg>\n",
              "      </button>\n",
              "      \n",
              "  <style>\n",
              "    .colab-df-container {\n",
              "      display:flex;\n",
              "      flex-wrap:wrap;\n",
              "      gap: 12px;\n",
              "    }\n",
              "\n",
              "    .colab-df-convert {\n",
              "      background-color: #E8F0FE;\n",
              "      border: none;\n",
              "      border-radius: 50%;\n",
              "      cursor: pointer;\n",
              "      display: none;\n",
              "      fill: #1967D2;\n",
              "      height: 32px;\n",
              "      padding: 0 0 0 0;\n",
              "      width: 32px;\n",
              "    }\n",
              "\n",
              "    .colab-df-convert:hover {\n",
              "      background-color: #E2EBFA;\n",
              "      box-shadow: 0px 1px 2px rgba(60, 64, 67, 0.3), 0px 1px 3px 1px rgba(60, 64, 67, 0.15);\n",
              "      fill: #174EA6;\n",
              "    }\n",
              "\n",
              "    [theme=dark] .colab-df-convert {\n",
              "      background-color: #3B4455;\n",
              "      fill: #D2E3FC;\n",
              "    }\n",
              "\n",
              "    [theme=dark] .colab-df-convert:hover {\n",
              "      background-color: #434B5C;\n",
              "      box-shadow: 0px 1px 3px 1px rgba(0, 0, 0, 0.15);\n",
              "      filter: drop-shadow(0px 1px 2px rgba(0, 0, 0, 0.3));\n",
              "      fill: #FFFFFF;\n",
              "    }\n",
              "  </style>\n",
              "\n",
              "      <script>\n",
              "        const buttonEl =\n",
              "          document.querySelector('#df-1f035d1e-126c-47ea-8a65-5ea04fd89ca6 button.colab-df-convert');\n",
              "        buttonEl.style.display =\n",
              "          google.colab.kernel.accessAllowed ? 'block' : 'none';\n",
              "\n",
              "        async function convertToInteractive(key) {\n",
              "          const element = document.querySelector('#df-1f035d1e-126c-47ea-8a65-5ea04fd89ca6');\n",
              "          const dataTable =\n",
              "            await google.colab.kernel.invokeFunction('convertToInteractive',\n",
              "                                                     [key], {});\n",
              "          if (!dataTable) return;\n",
              "\n",
              "          const docLinkHtml = 'Like what you see? Visit the ' +\n",
              "            '<a target=\"_blank\" href=https://colab.research.google.com/notebooks/data_table.ipynb>data table notebook</a>'\n",
              "            + ' to learn more about interactive tables.';\n",
              "          element.innerHTML = '';\n",
              "          dataTable['output_type'] = 'display_data';\n",
              "          await google.colab.output.renderOutput(dataTable, element);\n",
              "          const docLink = document.createElement('div');\n",
              "          docLink.innerHTML = docLinkHtml;\n",
              "          element.appendChild(docLink);\n",
              "        }\n",
              "      </script>\n",
              "    </div>\n",
              "  </div>\n",
              "  "
            ]
          },
          "metadata": {},
          "execution_count": 34
        }
      ]
    },
    {
      "cell_type": "code",
      "source": [],
      "metadata": {
        "id": "edA4UYTSwM4Z"
      },
      "execution_count": null,
      "outputs": []
    },
    {
      "cell_type": "code",
      "source": [
        "df2 = pd.read_csv(\"shades.csv\")\n",
        "df2"
      ],
      "metadata": {
        "colab": {
          "base_uri": "https://localhost:8080/",
          "height": 424
        },
        "id": "OyNqq6s3repX",
        "outputId": "01969471-1c7c-4533-f72d-689e8d06d2df"
      },
      "execution_count": 5,
      "outputs": [
        {
          "output_type": "execute_result",
          "data": {
            "text/plain": [
              "          brand brand_short     product product_short     hex     H     S  \\\n",
              "0    Maybelline          mb      Fit Me           fmf  f3cfb3  26.0  0.26   \n",
              "1    Maybelline          mb      Fit Me           fmf  ffe3c2  32.0  0.24   \n",
              "2    Maybelline          mb      Fit Me           fmf  ffe0cd  23.0  0.20   \n",
              "3    Maybelline          mb      Fit Me           fmf  ffd3be  19.0  0.25   \n",
              "4    Maybelline          mb      Fit Me           fmf  bd9584  18.0  0.30   \n",
              "..          ...         ...         ...           ...     ...   ...   ...   \n",
              "620     L'Oréal          lo  True Match           tms  eecfba  24.0  0.22   \n",
              "621     L'Oréal          lo  True Match           tms  e8c7b8  19.0  0.21   \n",
              "622     L'Oréal          lo  True Match           tms  f0cbb9  20.0  0.23   \n",
              "623     L'Oréal          lo  True Match           tms  e9c4b1  20.0  0.24   \n",
              "624     L'Oréal          lo  True Match           tms  eabea1  24.0  0.31   \n",
              "\n",
              "        V   L  group  \n",
              "0    0.95  86      2  \n",
              "1    1.00  92      2  \n",
              "2    1.00  91      2  \n",
              "3    1.00  88      2  \n",
              "4    0.74  65      2  \n",
              "..    ...  ..    ...  \n",
              "620  0.93  85      7  \n",
              "621  0.91  83      7  \n",
              "622  0.94  85      7  \n",
              "623  0.91  82      7  \n",
              "624  0.92  80      7  \n",
              "\n",
              "[625 rows x 10 columns]"
            ],
            "text/html": [
              "\n",
              "  <div id=\"df-0719e089-40cc-4600-a681-b46bcba72121\">\n",
              "    <div class=\"colab-df-container\">\n",
              "      <div>\n",
              "<style scoped>\n",
              "    .dataframe tbody tr th:only-of-type {\n",
              "        vertical-align: middle;\n",
              "    }\n",
              "\n",
              "    .dataframe tbody tr th {\n",
              "        vertical-align: top;\n",
              "    }\n",
              "\n",
              "    .dataframe thead th {\n",
              "        text-align: right;\n",
              "    }\n",
              "</style>\n",
              "<table border=\"1\" class=\"dataframe\">\n",
              "  <thead>\n",
              "    <tr style=\"text-align: right;\">\n",
              "      <th></th>\n",
              "      <th>brand</th>\n",
              "      <th>brand_short</th>\n",
              "      <th>product</th>\n",
              "      <th>product_short</th>\n",
              "      <th>hex</th>\n",
              "      <th>H</th>\n",
              "      <th>S</th>\n",
              "      <th>V</th>\n",
              "      <th>L</th>\n",
              "      <th>group</th>\n",
              "    </tr>\n",
              "  </thead>\n",
              "  <tbody>\n",
              "    <tr>\n",
              "      <th>0</th>\n",
              "      <td>Maybelline</td>\n",
              "      <td>mb</td>\n",
              "      <td>Fit Me</td>\n",
              "      <td>fmf</td>\n",
              "      <td>f3cfb3</td>\n",
              "      <td>26.0</td>\n",
              "      <td>0.26</td>\n",
              "      <td>0.95</td>\n",
              "      <td>86</td>\n",
              "      <td>2</td>\n",
              "    </tr>\n",
              "    <tr>\n",
              "      <th>1</th>\n",
              "      <td>Maybelline</td>\n",
              "      <td>mb</td>\n",
              "      <td>Fit Me</td>\n",
              "      <td>fmf</td>\n",
              "      <td>ffe3c2</td>\n",
              "      <td>32.0</td>\n",
              "      <td>0.24</td>\n",
              "      <td>1.00</td>\n",
              "      <td>92</td>\n",
              "      <td>2</td>\n",
              "    </tr>\n",
              "    <tr>\n",
              "      <th>2</th>\n",
              "      <td>Maybelline</td>\n",
              "      <td>mb</td>\n",
              "      <td>Fit Me</td>\n",
              "      <td>fmf</td>\n",
              "      <td>ffe0cd</td>\n",
              "      <td>23.0</td>\n",
              "      <td>0.20</td>\n",
              "      <td>1.00</td>\n",
              "      <td>91</td>\n",
              "      <td>2</td>\n",
              "    </tr>\n",
              "    <tr>\n",
              "      <th>3</th>\n",
              "      <td>Maybelline</td>\n",
              "      <td>mb</td>\n",
              "      <td>Fit Me</td>\n",
              "      <td>fmf</td>\n",
              "      <td>ffd3be</td>\n",
              "      <td>19.0</td>\n",
              "      <td>0.25</td>\n",
              "      <td>1.00</td>\n",
              "      <td>88</td>\n",
              "      <td>2</td>\n",
              "    </tr>\n",
              "    <tr>\n",
              "      <th>4</th>\n",
              "      <td>Maybelline</td>\n",
              "      <td>mb</td>\n",
              "      <td>Fit Me</td>\n",
              "      <td>fmf</td>\n",
              "      <td>bd9584</td>\n",
              "      <td>18.0</td>\n",
              "      <td>0.30</td>\n",
              "      <td>0.74</td>\n",
              "      <td>65</td>\n",
              "      <td>2</td>\n",
              "    </tr>\n",
              "    <tr>\n",
              "      <th>...</th>\n",
              "      <td>...</td>\n",
              "      <td>...</td>\n",
              "      <td>...</td>\n",
              "      <td>...</td>\n",
              "      <td>...</td>\n",
              "      <td>...</td>\n",
              "      <td>...</td>\n",
              "      <td>...</td>\n",
              "      <td>...</td>\n",
              "      <td>...</td>\n",
              "    </tr>\n",
              "    <tr>\n",
              "      <th>620</th>\n",
              "      <td>L'Oréal</td>\n",
              "      <td>lo</td>\n",
              "      <td>True Match</td>\n",
              "      <td>tms</td>\n",
              "      <td>eecfba</td>\n",
              "      <td>24.0</td>\n",
              "      <td>0.22</td>\n",
              "      <td>0.93</td>\n",
              "      <td>85</td>\n",
              "      <td>7</td>\n",
              "    </tr>\n",
              "    <tr>\n",
              "      <th>621</th>\n",
              "      <td>L'Oréal</td>\n",
              "      <td>lo</td>\n",
              "      <td>True Match</td>\n",
              "      <td>tms</td>\n",
              "      <td>e8c7b8</td>\n",
              "      <td>19.0</td>\n",
              "      <td>0.21</td>\n",
              "      <td>0.91</td>\n",
              "      <td>83</td>\n",
              "      <td>7</td>\n",
              "    </tr>\n",
              "    <tr>\n",
              "      <th>622</th>\n",
              "      <td>L'Oréal</td>\n",
              "      <td>lo</td>\n",
              "      <td>True Match</td>\n",
              "      <td>tms</td>\n",
              "      <td>f0cbb9</td>\n",
              "      <td>20.0</td>\n",
              "      <td>0.23</td>\n",
              "      <td>0.94</td>\n",
              "      <td>85</td>\n",
              "      <td>7</td>\n",
              "    </tr>\n",
              "    <tr>\n",
              "      <th>623</th>\n",
              "      <td>L'Oréal</td>\n",
              "      <td>lo</td>\n",
              "      <td>True Match</td>\n",
              "      <td>tms</td>\n",
              "      <td>e9c4b1</td>\n",
              "      <td>20.0</td>\n",
              "      <td>0.24</td>\n",
              "      <td>0.91</td>\n",
              "      <td>82</td>\n",
              "      <td>7</td>\n",
              "    </tr>\n",
              "    <tr>\n",
              "      <th>624</th>\n",
              "      <td>L'Oréal</td>\n",
              "      <td>lo</td>\n",
              "      <td>True Match</td>\n",
              "      <td>tms</td>\n",
              "      <td>eabea1</td>\n",
              "      <td>24.0</td>\n",
              "      <td>0.31</td>\n",
              "      <td>0.92</td>\n",
              "      <td>80</td>\n",
              "      <td>7</td>\n",
              "    </tr>\n",
              "  </tbody>\n",
              "</table>\n",
              "<p>625 rows × 10 columns</p>\n",
              "</div>\n",
              "      <button class=\"colab-df-convert\" onclick=\"convertToInteractive('df-0719e089-40cc-4600-a681-b46bcba72121')\"\n",
              "              title=\"Convert this dataframe to an interactive table.\"\n",
              "              style=\"display:none;\">\n",
              "        \n",
              "  <svg xmlns=\"http://www.w3.org/2000/svg\" height=\"24px\"viewBox=\"0 0 24 24\"\n",
              "       width=\"24px\">\n",
              "    <path d=\"M0 0h24v24H0V0z\" fill=\"none\"/>\n",
              "    <path d=\"M18.56 5.44l.94 2.06.94-2.06 2.06-.94-2.06-.94-.94-2.06-.94 2.06-2.06.94zm-11 1L8.5 8.5l.94-2.06 2.06-.94-2.06-.94L8.5 2.5l-.94 2.06-2.06.94zm10 10l.94 2.06.94-2.06 2.06-.94-2.06-.94-.94-2.06-.94 2.06-2.06.94z\"/><path d=\"M17.41 7.96l-1.37-1.37c-.4-.4-.92-.59-1.43-.59-.52 0-1.04.2-1.43.59L10.3 9.45l-7.72 7.72c-.78.78-.78 2.05 0 2.83L4 21.41c.39.39.9.59 1.41.59.51 0 1.02-.2 1.41-.59l7.78-7.78 2.81-2.81c.8-.78.8-2.07 0-2.86zM5.41 20L4 18.59l7.72-7.72 1.47 1.35L5.41 20z\"/>\n",
              "  </svg>\n",
              "      </button>\n",
              "      \n",
              "  <style>\n",
              "    .colab-df-container {\n",
              "      display:flex;\n",
              "      flex-wrap:wrap;\n",
              "      gap: 12px;\n",
              "    }\n",
              "\n",
              "    .colab-df-convert {\n",
              "      background-color: #E8F0FE;\n",
              "      border: none;\n",
              "      border-radius: 50%;\n",
              "      cursor: pointer;\n",
              "      display: none;\n",
              "      fill: #1967D2;\n",
              "      height: 32px;\n",
              "      padding: 0 0 0 0;\n",
              "      width: 32px;\n",
              "    }\n",
              "\n",
              "    .colab-df-convert:hover {\n",
              "      background-color: #E2EBFA;\n",
              "      box-shadow: 0px 1px 2px rgba(60, 64, 67, 0.3), 0px 1px 3px 1px rgba(60, 64, 67, 0.15);\n",
              "      fill: #174EA6;\n",
              "    }\n",
              "\n",
              "    [theme=dark] .colab-df-convert {\n",
              "      background-color: #3B4455;\n",
              "      fill: #D2E3FC;\n",
              "    }\n",
              "\n",
              "    [theme=dark] .colab-df-convert:hover {\n",
              "      background-color: #434B5C;\n",
              "      box-shadow: 0px 1px 3px 1px rgba(0, 0, 0, 0.15);\n",
              "      filter: drop-shadow(0px 1px 2px rgba(0, 0, 0, 0.3));\n",
              "      fill: #FFFFFF;\n",
              "    }\n",
              "  </style>\n",
              "\n",
              "      <script>\n",
              "        const buttonEl =\n",
              "          document.querySelector('#df-0719e089-40cc-4600-a681-b46bcba72121 button.colab-df-convert');\n",
              "        buttonEl.style.display =\n",
              "          google.colab.kernel.accessAllowed ? 'block' : 'none';\n",
              "\n",
              "        async function convertToInteractive(key) {\n",
              "          const element = document.querySelector('#df-0719e089-40cc-4600-a681-b46bcba72121');\n",
              "          const dataTable =\n",
              "            await google.colab.kernel.invokeFunction('convertToInteractive',\n",
              "                                                     [key], {});\n",
              "          if (!dataTable) return;\n",
              "\n",
              "          const docLinkHtml = 'Like what you see? Visit the ' +\n",
              "            '<a target=\"_blank\" href=https://colab.research.google.com/notebooks/data_table.ipynb>data table notebook</a>'\n",
              "            + ' to learn more about interactive tables.';\n",
              "          element.innerHTML = '';\n",
              "          dataTable['output_type'] = 'display_data';\n",
              "          await google.colab.output.renderOutput(dataTable, element);\n",
              "          const docLink = document.createElement('div');\n",
              "          docLink.innerHTML = docLinkHtml;\n",
              "          element.appendChild(docLink);\n",
              "        }\n",
              "      </script>\n",
              "    </div>\n",
              "  </div>\n",
              "  "
            ]
          },
          "metadata": {},
          "execution_count": 5
        }
      ]
    },
    {
      "cell_type": "code",
      "source": [
        "df3 = pd.read_csv(\"wine.csv\")\n",
        "df3"
      ],
      "metadata": {
        "colab": {
          "base_uri": "https://localhost:8080/",
          "height": 485
        },
        "id": "sJ-vYjRDrpKk",
        "outputId": "ee534510-8466-4f23-e9b3-20748539bc39"
      },
      "execution_count": 6,
      "outputs": [
        {
          "output_type": "execute_result",
          "data": {
            "text/plain": [
              "     fixed acidity  volatile acidity  citric acid  residual sugar  chlorides  \\\n",
              "0              7.4              0.70         0.00             1.9      0.076   \n",
              "1              7.8              0.88         0.00             2.6      0.098   \n",
              "2              7.8              0.76         0.04             2.3      0.092   \n",
              "3             11.2              0.28         0.56             1.9      0.075   \n",
              "4              7.4              0.70         0.00             1.9      0.076   \n",
              "..             ...               ...          ...             ...        ...   \n",
              "495           10.7              0.35         0.53             2.6      0.070   \n",
              "496            7.8              0.52         0.25             1.9      0.081   \n",
              "497            7.2              0.34         0.32             2.5      0.090   \n",
              "498           10.7              0.35         0.53             2.6      0.070   \n",
              "499            8.7              0.69         0.31             3.0      0.086   \n",
              "\n",
              "     free sulfur dioxide  total sulfur dioxide  density    pH  sulphates  \\\n",
              "0                   11.0                    34   0.9978  3.51       0.56   \n",
              "1                   25.0                    67   0.9968  3.20       0.68   \n",
              "2                   15.0                    54   0.9970  3.26       0.65   \n",
              "3                   17.0                    60   0.9980  3.16       0.58   \n",
              "4                   11.0                    34   0.9978  3.51       0.56   \n",
              "..                   ...                   ...      ...   ...        ...   \n",
              "495                  5.0                    16   0.9972  3.15       0.65   \n",
              "496                 14.0                    38   0.9984  3.43       0.65   \n",
              "497                 43.0                   113   0.9966  3.32       0.79   \n",
              "498                  5.0                    16   0.9972  3.15       0.65   \n",
              "499                 23.0                    81   1.0002  3.48       0.74   \n",
              "\n",
              "     alcohol  quality   grade  \n",
              "0        9.4        5  MEDIUM  \n",
              "1        9.8        5  MEDIUM  \n",
              "2        9.8        5  MEDIUM  \n",
              "3        9.8        6  MEDIUM  \n",
              "4        9.4        5  MEDIUM  \n",
              "..       ...      ...     ...  \n",
              "495     11.0        8    HIGH  \n",
              "496      9.0        6  MEDIUM  \n",
              "497     11.1        5  MEDIUM  \n",
              "498     11.0        8    HIGH  \n",
              "499     11.6        6  MEDIUM  \n",
              "\n",
              "[500 rows x 13 columns]"
            ],
            "text/html": [
              "\n",
              "  <div id=\"df-a947f39c-4664-4ae9-8736-1389fd259f6c\">\n",
              "    <div class=\"colab-df-container\">\n",
              "      <div>\n",
              "<style scoped>\n",
              "    .dataframe tbody tr th:only-of-type {\n",
              "        vertical-align: middle;\n",
              "    }\n",
              "\n",
              "    .dataframe tbody tr th {\n",
              "        vertical-align: top;\n",
              "    }\n",
              "\n",
              "    .dataframe thead th {\n",
              "        text-align: right;\n",
              "    }\n",
              "</style>\n",
              "<table border=\"1\" class=\"dataframe\">\n",
              "  <thead>\n",
              "    <tr style=\"text-align: right;\">\n",
              "      <th></th>\n",
              "      <th>fixed acidity</th>\n",
              "      <th>volatile acidity</th>\n",
              "      <th>citric acid</th>\n",
              "      <th>residual sugar</th>\n",
              "      <th>chlorides</th>\n",
              "      <th>free sulfur dioxide</th>\n",
              "      <th>total sulfur dioxide</th>\n",
              "      <th>density</th>\n",
              "      <th>pH</th>\n",
              "      <th>sulphates</th>\n",
              "      <th>alcohol</th>\n",
              "      <th>quality</th>\n",
              "      <th>grade</th>\n",
              "    </tr>\n",
              "  </thead>\n",
              "  <tbody>\n",
              "    <tr>\n",
              "      <th>0</th>\n",
              "      <td>7.4</td>\n",
              "      <td>0.70</td>\n",
              "      <td>0.00</td>\n",
              "      <td>1.9</td>\n",
              "      <td>0.076</td>\n",
              "      <td>11.0</td>\n",
              "      <td>34</td>\n",
              "      <td>0.9978</td>\n",
              "      <td>3.51</td>\n",
              "      <td>0.56</td>\n",
              "      <td>9.4</td>\n",
              "      <td>5</td>\n",
              "      <td>MEDIUM</td>\n",
              "    </tr>\n",
              "    <tr>\n",
              "      <th>1</th>\n",
              "      <td>7.8</td>\n",
              "      <td>0.88</td>\n",
              "      <td>0.00</td>\n",
              "      <td>2.6</td>\n",
              "      <td>0.098</td>\n",
              "      <td>25.0</td>\n",
              "      <td>67</td>\n",
              "      <td>0.9968</td>\n",
              "      <td>3.20</td>\n",
              "      <td>0.68</td>\n",
              "      <td>9.8</td>\n",
              "      <td>5</td>\n",
              "      <td>MEDIUM</td>\n",
              "    </tr>\n",
              "    <tr>\n",
              "      <th>2</th>\n",
              "      <td>7.8</td>\n",
              "      <td>0.76</td>\n",
              "      <td>0.04</td>\n",
              "      <td>2.3</td>\n",
              "      <td>0.092</td>\n",
              "      <td>15.0</td>\n",
              "      <td>54</td>\n",
              "      <td>0.9970</td>\n",
              "      <td>3.26</td>\n",
              "      <td>0.65</td>\n",
              "      <td>9.8</td>\n",
              "      <td>5</td>\n",
              "      <td>MEDIUM</td>\n",
              "    </tr>\n",
              "    <tr>\n",
              "      <th>3</th>\n",
              "      <td>11.2</td>\n",
              "      <td>0.28</td>\n",
              "      <td>0.56</td>\n",
              "      <td>1.9</td>\n",
              "      <td>0.075</td>\n",
              "      <td>17.0</td>\n",
              "      <td>60</td>\n",
              "      <td>0.9980</td>\n",
              "      <td>3.16</td>\n",
              "      <td>0.58</td>\n",
              "      <td>9.8</td>\n",
              "      <td>6</td>\n",
              "      <td>MEDIUM</td>\n",
              "    </tr>\n",
              "    <tr>\n",
              "      <th>4</th>\n",
              "      <td>7.4</td>\n",
              "      <td>0.70</td>\n",
              "      <td>0.00</td>\n",
              "      <td>1.9</td>\n",
              "      <td>0.076</td>\n",
              "      <td>11.0</td>\n",
              "      <td>34</td>\n",
              "      <td>0.9978</td>\n",
              "      <td>3.51</td>\n",
              "      <td>0.56</td>\n",
              "      <td>9.4</td>\n",
              "      <td>5</td>\n",
              "      <td>MEDIUM</td>\n",
              "    </tr>\n",
              "    <tr>\n",
              "      <th>...</th>\n",
              "      <td>...</td>\n",
              "      <td>...</td>\n",
              "      <td>...</td>\n",
              "      <td>...</td>\n",
              "      <td>...</td>\n",
              "      <td>...</td>\n",
              "      <td>...</td>\n",
              "      <td>...</td>\n",
              "      <td>...</td>\n",
              "      <td>...</td>\n",
              "      <td>...</td>\n",
              "      <td>...</td>\n",
              "      <td>...</td>\n",
              "    </tr>\n",
              "    <tr>\n",
              "      <th>495</th>\n",
              "      <td>10.7</td>\n",
              "      <td>0.35</td>\n",
              "      <td>0.53</td>\n",
              "      <td>2.6</td>\n",
              "      <td>0.070</td>\n",
              "      <td>5.0</td>\n",
              "      <td>16</td>\n",
              "      <td>0.9972</td>\n",
              "      <td>3.15</td>\n",
              "      <td>0.65</td>\n",
              "      <td>11.0</td>\n",
              "      <td>8</td>\n",
              "      <td>HIGH</td>\n",
              "    </tr>\n",
              "    <tr>\n",
              "      <th>496</th>\n",
              "      <td>7.8</td>\n",
              "      <td>0.52</td>\n",
              "      <td>0.25</td>\n",
              "      <td>1.9</td>\n",
              "      <td>0.081</td>\n",
              "      <td>14.0</td>\n",
              "      <td>38</td>\n",
              "      <td>0.9984</td>\n",
              "      <td>3.43</td>\n",
              "      <td>0.65</td>\n",
              "      <td>9.0</td>\n",
              "      <td>6</td>\n",
              "      <td>MEDIUM</td>\n",
              "    </tr>\n",
              "    <tr>\n",
              "      <th>497</th>\n",
              "      <td>7.2</td>\n",
              "      <td>0.34</td>\n",
              "      <td>0.32</td>\n",
              "      <td>2.5</td>\n",
              "      <td>0.090</td>\n",
              "      <td>43.0</td>\n",
              "      <td>113</td>\n",
              "      <td>0.9966</td>\n",
              "      <td>3.32</td>\n",
              "      <td>0.79</td>\n",
              "      <td>11.1</td>\n",
              "      <td>5</td>\n",
              "      <td>MEDIUM</td>\n",
              "    </tr>\n",
              "    <tr>\n",
              "      <th>498</th>\n",
              "      <td>10.7</td>\n",
              "      <td>0.35</td>\n",
              "      <td>0.53</td>\n",
              "      <td>2.6</td>\n",
              "      <td>0.070</td>\n",
              "      <td>5.0</td>\n",
              "      <td>16</td>\n",
              "      <td>0.9972</td>\n",
              "      <td>3.15</td>\n",
              "      <td>0.65</td>\n",
              "      <td>11.0</td>\n",
              "      <td>8</td>\n",
              "      <td>HIGH</td>\n",
              "    </tr>\n",
              "    <tr>\n",
              "      <th>499</th>\n",
              "      <td>8.7</td>\n",
              "      <td>0.69</td>\n",
              "      <td>0.31</td>\n",
              "      <td>3.0</td>\n",
              "      <td>0.086</td>\n",
              "      <td>23.0</td>\n",
              "      <td>81</td>\n",
              "      <td>1.0002</td>\n",
              "      <td>3.48</td>\n",
              "      <td>0.74</td>\n",
              "      <td>11.6</td>\n",
              "      <td>6</td>\n",
              "      <td>MEDIUM</td>\n",
              "    </tr>\n",
              "  </tbody>\n",
              "</table>\n",
              "<p>500 rows × 13 columns</p>\n",
              "</div>\n",
              "      <button class=\"colab-df-convert\" onclick=\"convertToInteractive('df-a947f39c-4664-4ae9-8736-1389fd259f6c')\"\n",
              "              title=\"Convert this dataframe to an interactive table.\"\n",
              "              style=\"display:none;\">\n",
              "        \n",
              "  <svg xmlns=\"http://www.w3.org/2000/svg\" height=\"24px\"viewBox=\"0 0 24 24\"\n",
              "       width=\"24px\">\n",
              "    <path d=\"M0 0h24v24H0V0z\" fill=\"none\"/>\n",
              "    <path d=\"M18.56 5.44l.94 2.06.94-2.06 2.06-.94-2.06-.94-.94-2.06-.94 2.06-2.06.94zm-11 1L8.5 8.5l.94-2.06 2.06-.94-2.06-.94L8.5 2.5l-.94 2.06-2.06.94zm10 10l.94 2.06.94-2.06 2.06-.94-2.06-.94-.94-2.06-.94 2.06-2.06.94z\"/><path d=\"M17.41 7.96l-1.37-1.37c-.4-.4-.92-.59-1.43-.59-.52 0-1.04.2-1.43.59L10.3 9.45l-7.72 7.72c-.78.78-.78 2.05 0 2.83L4 21.41c.39.39.9.59 1.41.59.51 0 1.02-.2 1.41-.59l7.78-7.78 2.81-2.81c.8-.78.8-2.07 0-2.86zM5.41 20L4 18.59l7.72-7.72 1.47 1.35L5.41 20z\"/>\n",
              "  </svg>\n",
              "      </button>\n",
              "      \n",
              "  <style>\n",
              "    .colab-df-container {\n",
              "      display:flex;\n",
              "      flex-wrap:wrap;\n",
              "      gap: 12px;\n",
              "    }\n",
              "\n",
              "    .colab-df-convert {\n",
              "      background-color: #E8F0FE;\n",
              "      border: none;\n",
              "      border-radius: 50%;\n",
              "      cursor: pointer;\n",
              "      display: none;\n",
              "      fill: #1967D2;\n",
              "      height: 32px;\n",
              "      padding: 0 0 0 0;\n",
              "      width: 32px;\n",
              "    }\n",
              "\n",
              "    .colab-df-convert:hover {\n",
              "      background-color: #E2EBFA;\n",
              "      box-shadow: 0px 1px 2px rgba(60, 64, 67, 0.3), 0px 1px 3px 1px rgba(60, 64, 67, 0.15);\n",
              "      fill: #174EA6;\n",
              "    }\n",
              "\n",
              "    [theme=dark] .colab-df-convert {\n",
              "      background-color: #3B4455;\n",
              "      fill: #D2E3FC;\n",
              "    }\n",
              "\n",
              "    [theme=dark] .colab-df-convert:hover {\n",
              "      background-color: #434B5C;\n",
              "      box-shadow: 0px 1px 3px 1px rgba(0, 0, 0, 0.15);\n",
              "      filter: drop-shadow(0px 1px 2px rgba(0, 0, 0, 0.3));\n",
              "      fill: #FFFFFF;\n",
              "    }\n",
              "  </style>\n",
              "\n",
              "      <script>\n",
              "        const buttonEl =\n",
              "          document.querySelector('#df-a947f39c-4664-4ae9-8736-1389fd259f6c button.colab-df-convert');\n",
              "        buttonEl.style.display =\n",
              "          google.colab.kernel.accessAllowed ? 'block' : 'none';\n",
              "\n",
              "        async function convertToInteractive(key) {\n",
              "          const element = document.querySelector('#df-a947f39c-4664-4ae9-8736-1389fd259f6c');\n",
              "          const dataTable =\n",
              "            await google.colab.kernel.invokeFunction('convertToInteractive',\n",
              "                                                     [key], {});\n",
              "          if (!dataTable) return;\n",
              "\n",
              "          const docLinkHtml = 'Like what you see? Visit the ' +\n",
              "            '<a target=\"_blank\" href=https://colab.research.google.com/notebooks/data_table.ipynb>data table notebook</a>'\n",
              "            + ' to learn more about interactive tables.';\n",
              "          element.innerHTML = '';\n",
              "          dataTable['output_type'] = 'display_data';\n",
              "          await google.colab.output.renderOutput(dataTable, element);\n",
              "          const docLink = document.createElement('div');\n",
              "          docLink.innerHTML = docLinkHtml;\n",
              "          element.appendChild(docLink);\n",
              "        }\n",
              "      </script>\n",
              "    </div>\n",
              "  </div>\n",
              "  "
            ]
          },
          "metadata": {},
          "execution_count": 6
        }
      ]
    },
    {
      "cell_type": "markdown",
      "source": [
        "DATA CLEANING"
      ],
      "metadata": {
        "id": "Mipk9VVqvdtM"
      }
    },
    {
      "cell_type": "code",
      "source": [
        "dataset_cl1 = df.copy()\n",
        "dataset_cl2 = df2.copy()\n",
        "dataset_cl3 = df3.copy()"
      ],
      "metadata": {
        "id": "tE3dvfMRr1Ue"
      },
      "execution_count": 7,
      "outputs": []
    },
    {
      "cell_type": "code",
      "source": [
        "imputer_mean = SimpleImputer(strategy='mean')\n",
        "imputer_median = SimpleImputer(strategy='median')\n",
        "imputer_modus = SimpleImputer(strategy='most_frequent')"
      ],
      "metadata": {
        "id": "9cbvDYROr3AB"
      },
      "execution_count": 8,
      "outputs": []
    },
    {
      "cell_type": "markdown",
      "source": [
        "MODUS"
      ],
      "metadata": {
        "id": "Ip0jZEx3vhA6"
      }
    },
    {
      "cell_type": "code",
      "source": [
        "dataset_cl2['H'] = imputer_modus.fit_transform(dataset_cl2[['H']])\n",
        "\n",
        "dataset_cl2.isna().sum()"
      ],
      "metadata": {
        "colab": {
          "base_uri": "https://localhost:8080/"
        },
        "id": "aXlYd_2Jr5Ht",
        "outputId": "a693b505-de17-438b-cebd-1d553122c22b"
      },
      "execution_count": 11,
      "outputs": [
        {
          "output_type": "execute_result",
          "data": {
            "text/plain": [
              "brand             0\n",
              "brand_short       0\n",
              "product           0\n",
              "product_short     0\n",
              "hex               0\n",
              "H                 0\n",
              "S                12\n",
              "V                12\n",
              "L                 0\n",
              "group             0\n",
              "dtype: int64"
            ]
          },
          "metadata": {},
          "execution_count": 11
        }
      ]
    },
    {
      "cell_type": "markdown",
      "source": [
        "MEAN"
      ],
      "metadata": {
        "id": "UmXfI1qYvn_C"
      }
    },
    {
      "cell_type": "code",
      "source": [
        "dataset_cl2['V'] = imputer_mean.fit_transform(dataset_cl2[['V']])\n",
        "\n",
        "dataset_cl2.isna().sum()"
      ],
      "metadata": {
        "colab": {
          "base_uri": "https://localhost:8080/"
        },
        "id": "hvbRcSpIto27",
        "outputId": "e7fe0317-9d13-46c8-a248-d710a73c2c6b"
      },
      "execution_count": 13,
      "outputs": [
        {
          "output_type": "execute_result",
          "data": {
            "text/plain": [
              "brand            0\n",
              "brand_short      0\n",
              "product          0\n",
              "product_short    0\n",
              "hex              0\n",
              "H                0\n",
              "S                0\n",
              "V                0\n",
              "L                0\n",
              "group            0\n",
              "dtype: int64"
            ]
          },
          "metadata": {},
          "execution_count": 13
        }
      ]
    },
    {
      "cell_type": "markdown",
      "source": [
        "DELETE"
      ],
      "metadata": {
        "id": "X1iPnwVMvpbO"
      }
    },
    {
      "cell_type": "code",
      "source": [
        "dataset_cl2.dropna(inplace=True)\n",
        "\n",
        "dataset_cl2.isna().sum()"
      ],
      "metadata": {
        "colab": {
          "base_uri": "https://localhost:8080/"
        },
        "id": "hABWkm10t3th",
        "outputId": "49e9ece0-9408-4220-ac68-5598edc56004"
      },
      "execution_count": 14,
      "outputs": [
        {
          "output_type": "execute_result",
          "data": {
            "text/plain": [
              "brand            0\n",
              "brand_short      0\n",
              "product          0\n",
              "product_short    0\n",
              "hex              0\n",
              "H                0\n",
              "S                0\n",
              "V                0\n",
              "L                0\n",
              "group            0\n",
              "dtype: int64"
            ]
          },
          "metadata": {},
          "execution_count": 14
        }
      ]
    },
    {
      "cell_type": "markdown",
      "source": [
        "DUPLIKAT"
      ],
      "metadata": {
        "id": "_VtEypo8vsMD"
      }
    },
    {
      "cell_type": "code",
      "source": [
        "dataset_duplicate = df2.copy()\n",
        "\n",
        "dataset_duplicate.duplicated().sum()"
      ],
      "metadata": {
        "colab": {
          "base_uri": "https://localhost:8080/"
        },
        "id": "fP5vrlTQt6ED",
        "outputId": "51404072-dc92-42f7-e230-83bffdf62120"
      },
      "execution_count": 15,
      "outputs": [
        {
          "output_type": "execute_result",
          "data": {
            "text/plain": [
              "4"
            ]
          },
          "metadata": {},
          "execution_count": 15
        }
      ]
    },
    {
      "cell_type": "code",
      "source": [
        "dataset_duplicate.drop_duplicates(inplace=True)\n",
        "\n",
        "dataset_duplicate.duplicated().sum()"
      ],
      "metadata": {
        "colab": {
          "base_uri": "https://localhost:8080/"
        },
        "id": "vWRKf29Kt9Dd",
        "outputId": "ce17f46a-989b-4284-b5be-588f5fbadb20"
      },
      "execution_count": 16,
      "outputs": [
        {
          "output_type": "execute_result",
          "data": {
            "text/plain": [
              "0"
            ]
          },
          "metadata": {},
          "execution_count": 16
        }
      ]
    },
    {
      "cell_type": "code",
      "source": [
        "\n",
        "dataset_cl2.info()"
      ],
      "metadata": {
        "colab": {
          "base_uri": "https://localhost:8080/"
        },
        "id": "Knq_-4fSt_VE",
        "outputId": "0613098d-4179-4821-baeb-35c9ed9dd517"
      },
      "execution_count": 17,
      "outputs": [
        {
          "output_type": "stream",
          "name": "stdout",
          "text": [
            "<class 'pandas.core.frame.DataFrame'>\n",
            "Int64Index: 625 entries, 0 to 624\n",
            "Data columns (total 10 columns):\n",
            " #   Column         Non-Null Count  Dtype  \n",
            "---  ------         --------------  -----  \n",
            " 0   brand          625 non-null    object \n",
            " 1   brand_short    625 non-null    object \n",
            " 2   product        625 non-null    object \n",
            " 3   product_short  625 non-null    object \n",
            " 4   hex            625 non-null    object \n",
            " 5   H              625 non-null    float64\n",
            " 6   S              625 non-null    float64\n",
            " 7   V              625 non-null    float64\n",
            " 8   L              625 non-null    int64  \n",
            " 9   group          625 non-null    int64  \n",
            "dtypes: float64(3), int64(2), object(5)\n",
            "memory usage: 53.7+ KB\n"
          ]
        }
      ]
    },
    {
      "cell_type": "code",
      "source": [
        "dataset_cl2.head()"
      ],
      "metadata": {
        "colab": {
          "base_uri": "https://localhost:8080/",
          "height": 206
        },
        "id": "ozd9WVGSuHds",
        "outputId": "a1ed508d-9f69-4268-a2c2-8fd485475631"
      },
      "execution_count": 18,
      "outputs": [
        {
          "output_type": "execute_result",
          "data": {
            "text/plain": [
              "        brand brand_short product product_short     hex     H     S     V   L  \\\n",
              "0  Maybelline          mb  Fit Me           fmf  f3cfb3  26.0  0.26  0.95  86   \n",
              "1  Maybelline          mb  Fit Me           fmf  ffe3c2  32.0  0.24  1.00  92   \n",
              "2  Maybelline          mb  Fit Me           fmf  ffe0cd  23.0  0.20  1.00  91   \n",
              "3  Maybelline          mb  Fit Me           fmf  ffd3be  19.0  0.25  1.00  88   \n",
              "4  Maybelline          mb  Fit Me           fmf  bd9584  18.0  0.30  0.74  65   \n",
              "\n",
              "   group  \n",
              "0      2  \n",
              "1      2  \n",
              "2      2  \n",
              "3      2  \n",
              "4      2  "
            ],
            "text/html": [
              "\n",
              "  <div id=\"df-67992523-9756-4b54-8fe8-a7f86bdfd484\">\n",
              "    <div class=\"colab-df-container\">\n",
              "      <div>\n",
              "<style scoped>\n",
              "    .dataframe tbody tr th:only-of-type {\n",
              "        vertical-align: middle;\n",
              "    }\n",
              "\n",
              "    .dataframe tbody tr th {\n",
              "        vertical-align: top;\n",
              "    }\n",
              "\n",
              "    .dataframe thead th {\n",
              "        text-align: right;\n",
              "    }\n",
              "</style>\n",
              "<table border=\"1\" class=\"dataframe\">\n",
              "  <thead>\n",
              "    <tr style=\"text-align: right;\">\n",
              "      <th></th>\n",
              "      <th>brand</th>\n",
              "      <th>brand_short</th>\n",
              "      <th>product</th>\n",
              "      <th>product_short</th>\n",
              "      <th>hex</th>\n",
              "      <th>H</th>\n",
              "      <th>S</th>\n",
              "      <th>V</th>\n",
              "      <th>L</th>\n",
              "      <th>group</th>\n",
              "    </tr>\n",
              "  </thead>\n",
              "  <tbody>\n",
              "    <tr>\n",
              "      <th>0</th>\n",
              "      <td>Maybelline</td>\n",
              "      <td>mb</td>\n",
              "      <td>Fit Me</td>\n",
              "      <td>fmf</td>\n",
              "      <td>f3cfb3</td>\n",
              "      <td>26.0</td>\n",
              "      <td>0.26</td>\n",
              "      <td>0.95</td>\n",
              "      <td>86</td>\n",
              "      <td>2</td>\n",
              "    </tr>\n",
              "    <tr>\n",
              "      <th>1</th>\n",
              "      <td>Maybelline</td>\n",
              "      <td>mb</td>\n",
              "      <td>Fit Me</td>\n",
              "      <td>fmf</td>\n",
              "      <td>ffe3c2</td>\n",
              "      <td>32.0</td>\n",
              "      <td>0.24</td>\n",
              "      <td>1.00</td>\n",
              "      <td>92</td>\n",
              "      <td>2</td>\n",
              "    </tr>\n",
              "    <tr>\n",
              "      <th>2</th>\n",
              "      <td>Maybelline</td>\n",
              "      <td>mb</td>\n",
              "      <td>Fit Me</td>\n",
              "      <td>fmf</td>\n",
              "      <td>ffe0cd</td>\n",
              "      <td>23.0</td>\n",
              "      <td>0.20</td>\n",
              "      <td>1.00</td>\n",
              "      <td>91</td>\n",
              "      <td>2</td>\n",
              "    </tr>\n",
              "    <tr>\n",
              "      <th>3</th>\n",
              "      <td>Maybelline</td>\n",
              "      <td>mb</td>\n",
              "      <td>Fit Me</td>\n",
              "      <td>fmf</td>\n",
              "      <td>ffd3be</td>\n",
              "      <td>19.0</td>\n",
              "      <td>0.25</td>\n",
              "      <td>1.00</td>\n",
              "      <td>88</td>\n",
              "      <td>2</td>\n",
              "    </tr>\n",
              "    <tr>\n",
              "      <th>4</th>\n",
              "      <td>Maybelline</td>\n",
              "      <td>mb</td>\n",
              "      <td>Fit Me</td>\n",
              "      <td>fmf</td>\n",
              "      <td>bd9584</td>\n",
              "      <td>18.0</td>\n",
              "      <td>0.30</td>\n",
              "      <td>0.74</td>\n",
              "      <td>65</td>\n",
              "      <td>2</td>\n",
              "    </tr>\n",
              "  </tbody>\n",
              "</table>\n",
              "</div>\n",
              "      <button class=\"colab-df-convert\" onclick=\"convertToInteractive('df-67992523-9756-4b54-8fe8-a7f86bdfd484')\"\n",
              "              title=\"Convert this dataframe to an interactive table.\"\n",
              "              style=\"display:none;\">\n",
              "        \n",
              "  <svg xmlns=\"http://www.w3.org/2000/svg\" height=\"24px\"viewBox=\"0 0 24 24\"\n",
              "       width=\"24px\">\n",
              "    <path d=\"M0 0h24v24H0V0z\" fill=\"none\"/>\n",
              "    <path d=\"M18.56 5.44l.94 2.06.94-2.06 2.06-.94-2.06-.94-.94-2.06-.94 2.06-2.06.94zm-11 1L8.5 8.5l.94-2.06 2.06-.94-2.06-.94L8.5 2.5l-.94 2.06-2.06.94zm10 10l.94 2.06.94-2.06 2.06-.94-2.06-.94-.94-2.06-.94 2.06-2.06.94z\"/><path d=\"M17.41 7.96l-1.37-1.37c-.4-.4-.92-.59-1.43-.59-.52 0-1.04.2-1.43.59L10.3 9.45l-7.72 7.72c-.78.78-.78 2.05 0 2.83L4 21.41c.39.39.9.59 1.41.59.51 0 1.02-.2 1.41-.59l7.78-7.78 2.81-2.81c.8-.78.8-2.07 0-2.86zM5.41 20L4 18.59l7.72-7.72 1.47 1.35L5.41 20z\"/>\n",
              "  </svg>\n",
              "      </button>\n",
              "      \n",
              "  <style>\n",
              "    .colab-df-container {\n",
              "      display:flex;\n",
              "      flex-wrap:wrap;\n",
              "      gap: 12px;\n",
              "    }\n",
              "\n",
              "    .colab-df-convert {\n",
              "      background-color: #E8F0FE;\n",
              "      border: none;\n",
              "      border-radius: 50%;\n",
              "      cursor: pointer;\n",
              "      display: none;\n",
              "      fill: #1967D2;\n",
              "      height: 32px;\n",
              "      padding: 0 0 0 0;\n",
              "      width: 32px;\n",
              "    }\n",
              "\n",
              "    .colab-df-convert:hover {\n",
              "      background-color: #E2EBFA;\n",
              "      box-shadow: 0px 1px 2px rgba(60, 64, 67, 0.3), 0px 1px 3px 1px rgba(60, 64, 67, 0.15);\n",
              "      fill: #174EA6;\n",
              "    }\n",
              "\n",
              "    [theme=dark] .colab-df-convert {\n",
              "      background-color: #3B4455;\n",
              "      fill: #D2E3FC;\n",
              "    }\n",
              "\n",
              "    [theme=dark] .colab-df-convert:hover {\n",
              "      background-color: #434B5C;\n",
              "      box-shadow: 0px 1px 3px 1px rgba(0, 0, 0, 0.15);\n",
              "      filter: drop-shadow(0px 1px 2px rgba(0, 0, 0, 0.3));\n",
              "      fill: #FFFFFF;\n",
              "    }\n",
              "  </style>\n",
              "\n",
              "      <script>\n",
              "        const buttonEl =\n",
              "          document.querySelector('#df-67992523-9756-4b54-8fe8-a7f86bdfd484 button.colab-df-convert');\n",
              "        buttonEl.style.display =\n",
              "          google.colab.kernel.accessAllowed ? 'block' : 'none';\n",
              "\n",
              "        async function convertToInteractive(key) {\n",
              "          const element = document.querySelector('#df-67992523-9756-4b54-8fe8-a7f86bdfd484');\n",
              "          const dataTable =\n",
              "            await google.colab.kernel.invokeFunction('convertToInteractive',\n",
              "                                                     [key], {});\n",
              "          if (!dataTable) return;\n",
              "\n",
              "          const docLinkHtml = 'Like what you see? Visit the ' +\n",
              "            '<a target=\"_blank\" href=https://colab.research.google.com/notebooks/data_table.ipynb>data table notebook</a>'\n",
              "            + ' to learn more about interactive tables.';\n",
              "          element.innerHTML = '';\n",
              "          dataTable['output_type'] = 'display_data';\n",
              "          await google.colab.output.renderOutput(dataTable, element);\n",
              "          const docLink = document.createElement('div');\n",
              "          docLink.innerHTML = docLinkHtml;\n",
              "          element.appendChild(docLink);\n",
              "        }\n",
              "      </script>\n",
              "    </div>\n",
              "  </div>\n",
              "  "
            ]
          },
          "metadata": {},
          "execution_count": 18
        }
      ]
    },
    {
      "cell_type": "markdown",
      "source": [
        "KNN"
      ],
      "metadata": {
        "id": "K1TU7Qftvx1y"
      }
    },
    {
      "cell_type": "code",
      "source": [
        "x = dataset_cl2[['H','S','V','L']]\n",
        "y = dataset_cl2['group']"
      ],
      "metadata": {
        "id": "wAg-lIreuLIV"
      },
      "execution_count": 19,
      "outputs": []
    },
    {
      "cell_type": "code",
      "source": [],
      "metadata": {
        "id": "01E7spzhu7MO"
      },
      "execution_count": null,
      "outputs": []
    },
    {
      "cell_type": "code",
      "source": [
        "x_train, x_test, y_train, y_test = train_test_split(x, y, random_state=0, test_size=.2)"
      ],
      "metadata": {
        "id": "nLuRZ5E2uoFx"
      },
      "execution_count": 20,
      "outputs": []
    },
    {
      "cell_type": "code",
      "source": [
        "classifier = KNeighborsClassifier(n_neighbors = 5)"
      ],
      "metadata": {
        "id": "fxVxi7ytuqYI"
      },
      "execution_count": 21,
      "outputs": []
    },
    {
      "cell_type": "code",
      "source": [
        "classifier.fit(x_train,y_train)"
      ],
      "metadata": {
        "colab": {
          "base_uri": "https://localhost:8080/"
        },
        "id": "uo8ZRwJHusy2",
        "outputId": "cc0d37d9-d490-46b6-b2ec-b234b630e6a2"
      },
      "execution_count": 22,
      "outputs": [
        {
          "output_type": "execute_result",
          "data": {
            "text/plain": [
              "KNeighborsClassifier()"
            ]
          },
          "metadata": {},
          "execution_count": 22
        }
      ]
    },
    {
      "cell_type": "code",
      "source": [
        "predicted_value = classifier.predict(x_test)\n",
        "accuracy = accuracy_score(y_test, predicted_value)"
      ],
      "metadata": {
        "id": "AD6GlhC-uvhD"
      },
      "execution_count": 23,
      "outputs": []
    },
    {
      "cell_type": "code",
      "source": [
        "print(f'hasil prediksi: {predicted_value}',\n",
        "     f'Class: {y_test}',\n",
        "     f'akurasi: {accuracy}',\n",
        "     sep = '\\n'\n",
        ")"
      ],
      "metadata": {
        "colab": {
          "base_uri": "https://localhost:8080/"
        },
        "id": "rochY2Vtuw4C",
        "outputId": "1b3b504e-29a7-4de3-844e-79eb0e9fba60"
      },
      "execution_count": 24,
      "outputs": [
        {
          "output_type": "stream",
          "name": "stdout",
          "text": [
            "hasil prediksi: [6 2 2 0 2 4 0 2 2 2 7 3 5 0 5 2 2 1 2 6 3 4 6 2 2 5 3 0 0 0 2 3 6 4 4 2 3\n",
            " 5 4 2 0 0 0 7 3 1 2 6 2 2 2 2 2 1 6 3 3 0 1 3 4 5 5 2 7 4 4 2 3 2 6 2 1 2\n",
            " 4 2 2 1 2 2 2 4 3 4 5 0 2 2 3 6 0 4 2 7 4 1 2 3 2 3 2 6 4 3 2 2 6 7 2 3 0\n",
            " 3 4 2 3 3 2 7 4 1 2 4 4 2 7]\n",
            "Class: 356    4\n",
            "299    4\n",
            "425    1\n",
            "313    4\n",
            "429    1\n",
            "      ..\n",
            "466    5\n",
            "343    4\n",
            "362    4\n",
            "75     2\n",
            "10     2\n",
            "Name: group, Length: 125, dtype: int64\n",
            "akurasi: 0.28\n"
          ]
        }
      ]
    },
    {
      "cell_type": "code",
      "source": [
        "classifier.score(x_test,y_test)"
      ],
      "metadata": {
        "colab": {
          "base_uri": "https://localhost:8080/"
        },
        "id": "XJ-xLR14u2_b",
        "outputId": "887fc744-20ab-442f-84a6-5eb94bd0d3bf"
      },
      "execution_count": 25,
      "outputs": [
        {
          "output_type": "execute_result",
          "data": {
            "text/plain": [
              "0.28"
            ]
          },
          "metadata": {},
          "execution_count": 25
        }
      ]
    },
    {
      "cell_type": "markdown",
      "source": [
        "NAIVE BAYES"
      ],
      "metadata": {
        "id": "4G-k-hZrv1Wi"
      }
    },
    {
      "cell_type": "code",
      "source": [
        "x = dataset_cl2[['H','S','V','L']]\n",
        "y = dataset_cl2['group']"
      ],
      "metadata": {
        "id": "Mgt4YyWIvCUf"
      },
      "execution_count": 27,
      "outputs": []
    },
    {
      "cell_type": "code",
      "source": [
        "x_train, x_test, y_train, y_test = train_test_split(x, y, test_size=1, shuffle=False, stratify=None)"
      ],
      "metadata": {
        "id": "JLFGolpNvGdn"
      },
      "execution_count": 28,
      "outputs": []
    },
    {
      "cell_type": "code",
      "source": [
        "classifier = GaussianNB()"
      ],
      "metadata": {
        "id": "wVW4vQTQvHb3"
      },
      "execution_count": 29,
      "outputs": []
    },
    {
      "cell_type": "code",
      "source": [
        "classifier.fit(x_train,y_train)"
      ],
      "metadata": {
        "colab": {
          "base_uri": "https://localhost:8080/"
        },
        "id": "0HpHpmGrvJgL",
        "outputId": "17b5f4c1-7afb-46ad-de76-43b398f8bcc4"
      },
      "execution_count": 30,
      "outputs": [
        {
          "output_type": "execute_result",
          "data": {
            "text/plain": [
              "GaussianNB()"
            ]
          },
          "metadata": {},
          "execution_count": 30
        }
      ]
    },
    {
      "cell_type": "code",
      "source": [
        "predicted_value = classifier.predict(x_test)\n",
        "accuracy = accuracy_score(y_test, predicted_value)"
      ],
      "metadata": {
        "id": "OioT7ZakvLWZ"
      },
      "execution_count": 31,
      "outputs": []
    },
    {
      "cell_type": "code",
      "source": [
        "print(f'hasil prediksi: {predicted_value}',\n",
        "     f'Class: {y_test}',\n",
        "     f'akurasi: {accuracy}',\n",
        "     sep = '\\n'\n",
        ")"
      ],
      "metadata": {
        "colab": {
          "base_uri": "https://localhost:8080/"
        },
        "id": "NGTUOkHzvQhs",
        "outputId": "0cf1cf57-75e5-4846-fc16-1fe07d6a552b"
      },
      "execution_count": 32,
      "outputs": [
        {
          "output_type": "stream",
          "name": "stdout",
          "text": [
            "hasil prediksi: [6]\n",
            "Class: 624    7\n",
            "Name: group, dtype: int64\n",
            "akurasi: 0.0\n"
          ]
        }
      ]
    },
    {
      "cell_type": "code",
      "source": [
        "classifier.score(x_test,y_test)"
      ],
      "metadata": {
        "colab": {
          "base_uri": "https://localhost:8080/"
        },
        "id": "Ejdop7aSvTDI",
        "outputId": "2de37cb5-a209-4736-f54a-ed61373a8a8f"
      },
      "execution_count": 33,
      "outputs": [
        {
          "output_type": "execute_result",
          "data": {
            "text/plain": [
              "0.0"
            ]
          },
          "metadata": {},
          "execution_count": 33
        }
      ]
    }
  ],
  "metadata": {
    "colab": {
      "collapsed_sections": [],
      "name": "Welcome To Colaboratory",
      "provenance": []
    },
    "kernelspec": {
      "display_name": "Python 3",
      "name": "python3"
    }
  },
  "nbformat": 4,
  "nbformat_minor": 0
}