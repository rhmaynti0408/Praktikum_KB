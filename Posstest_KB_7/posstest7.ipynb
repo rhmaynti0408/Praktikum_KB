{
  "nbformat": 4,
  "nbformat_minor": 0,
  "metadata": {
    "colab": {
      "provenance": [],
      "collapsed_sections": []
    },
    "kernelspec": {
      "name": "python3",
      "display_name": "Python 3"
    },
    "language_info": {
      "name": "python"
    }
  },
  "cells": [
    {
      "cell_type": "markdown",
      "source": [],
      "metadata": {
        "id": "4Hd2e7XUslFQ"
      }
    },
    {
      "cell_type": "code",
      "source": [
        "library"
      ],
      "metadata": {
        "id": "fiqmByx2smAz"
      },
      "execution_count": null,
      "outputs": []
    },
    {
      "cell_type": "code",
      "execution_count": 1,
      "metadata": {
        "id": "itO8AdNQjKSy"
      },
      "outputs": [],
      "source": [
        "import numpy as np\n",
        "import tensorflow as tf"
      ]
    },
    {
      "cell_type": "markdown",
      "source": [
        "membuat tensor dengan shape[5,5] dengan nilai random simpan kedalam variabel random tensor"
      ],
      "metadata": {
        "id": "FxAphLFxrk84"
      }
    },
    {
      "cell_type": "code",
      "source": [
        "random_tensor = tf.random.normal([5,5], mean=0, stddev=1, seed=1)\n",
        "random_tensor"
      ],
      "metadata": {
        "colab": {
          "base_uri": "https://localhost:8080/"
        },
        "id": "vhLqoo2QkABM",
        "outputId": "d93d55d4-2a6b-46ba-f268-04439dbd7028"
      },
      "execution_count": 2,
      "outputs": [
        {
          "output_type": "execute_result",
          "data": {
            "text/plain": [
              "<tf.Tensor: shape=(5, 5), dtype=float32, numpy=\n",
              "array([[-0.8113182 ,  1.4845988 ,  0.06532937, -2.4427042 ,  0.0992484 ],\n",
              "       [ 0.5912243 ,  0.59282297, -2.1229296 , -0.72289723, -0.05627038],\n",
              "       [ 0.6435448 , -0.26432407,  1.8566332 ,  0.5678417 , -0.3828359 ],\n",
              "       [-1.4853433 ,  1.2617711 , -0.02530608, -0.2646297 ,  1.5328138 ],\n",
              "       [-1.7429771 , -0.43789294, -0.56601   ,  0.32066926,  1.132831  ]],\n",
              "      dtype=float32)>"
            ]
          },
          "metadata": {},
          "execution_count": 2
        }
      ]
    },
    {
      "cell_type": "markdown",
      "source": [
        "nilai prime tensor dalam variabel primer= tensor"
      ],
      "metadata": {
        "id": "6tbx3qU6r9yq"
      }
    },
    {
      "cell_type": "code",
      "source": [
        "p_tensor = tf.constant([ 11, 13, 17, 19, 23, 29, 31, 37, 41, 43, 47, 53, 59, 61, 71, 73, 79, 83, 89,97, 101,103,105,107,109], shape=[5, 5], dtype=tf.float32)\n",
        "p_tensor"
      ],
      "metadata": {
        "colab": {
          "base_uri": "https://localhost:8080/"
        },
        "id": "lforRbxckJxc",
        "outputId": "1b3e93e9-3de5-4406-e92f-275e4e8a8397"
      },
      "execution_count": 30,
      "outputs": [
        {
          "output_type": "execute_result",
          "data": {
            "text/plain": [
              "<tf.Tensor: shape=(5, 5), dtype=float32, numpy=\n",
              "array([[ 11.,  13.,  17.,  19.,  23.],\n",
              "       [ 29.,  31.,  37.,  41.,  43.],\n",
              "       [ 47.,  53.,  59.,  61.,  71.],\n",
              "       [ 73.,  79.,  83.,  89.,  97.],\n",
              "       [101., 103., 105., 107., 109.]], dtype=float32)>"
            ]
          },
          "metadata": {},
          "execution_count": 30
        }
      ]
    },
    {
      "cell_type": "markdown",
      "source": [
        "aritmatika 5 operator"
      ],
      "metadata": {
        "id": "xb44GrHLsF3p"
      }
    },
    {
      "cell_type": "code",
      "source": [
        "#penjumlahan\n",
        "print(tf.add(random_tensor, p_tensor))\n",
        "#perkalian\n",
        "print(tf.multiply(random_tensor, p_tensor))\n",
        "#pangkat\n",
        "print(tf.pow(random_tensor, p_tensor))\n",
        "#pembagian\n",
        "print(tf.divide(random_tensor, p_tensor))\n",
        "#logaritma\n",
        "print(tf.math.log(random_tensor, p_tensor))\n"
      ],
      "metadata": {
        "colab": {
          "base_uri": "https://localhost:8080/"
        },
        "id": "fzWp2IiFkYju",
        "outputId": "27cd792e-dd83-4534-8675-954cfcf93dfb"
      },
      "execution_count": 31,
      "outputs": [
        {
          "output_type": "stream",
          "name": "stdout",
          "text": [
            "tf.Tensor(\n",
            "[[ 10.188682  14.484599  17.065329  16.557297  23.099249]\n",
            " [ 29.591225  31.592823  34.87707   40.277103  42.94373 ]\n",
            " [ 47.643543  52.735676  60.856632  61.56784   70.617165]\n",
            " [ 71.514656  80.26177   82.97469   88.73537   98.532814]\n",
            " [ 99.25702  102.5621   104.43399  107.32067  110.13283 ]], shape=(5, 5), dtype=float32)\n",
            "tf.Tensor(\n",
            "[[  -8.9245      19.299784     1.1105993  -46.41138      2.2827132]\n",
            " [  17.145506    18.377512   -78.54839    -29.638786    -2.4196262]\n",
            " [  30.246605   -14.009175   109.54136     34.638344   -27.181349 ]\n",
            " [-108.43006     99.67992     -2.1004045  -23.552042   148.68294  ]\n",
            " [-176.0407     -45.102974   -59.43105     34.31161    123.47858  ]], shape=(5, 5), dtype=float32)\n",
            "tf.Tensor(\n",
            "[[-1.0025442e-01  1.7018379e+02  7.1919113e-21 -2.3417834e+07\n",
            "   8.4069995e-24]\n",
            " [ 2.4033457e-07  9.1343090e-08 -1.2491561e+12 -1.6677810e-06\n",
            "   0.0000000e+00]\n",
            " [ 1.0074017e-09 -2.3618141e-31  7.1588032e+15  1.0182739e-15\n",
            "  -2.4768415e-30]\n",
            " [-3.4943004e+12  9.4943456e+07  0.0000000e+00  0.0000000e+00\n",
            "   9.8281469e+17]\n",
            " [-2.3467178e+24 -1.1505315e-37 -1.1130913e-26  0.0000000e+00\n",
            "   8.0167381e+05]], shape=(5, 5), dtype=float32)\n",
            "tf.Tensor(\n",
            "[[-0.0737562   0.11419991  0.0038429  -0.12856337  0.00431515]\n",
            " [ 0.02038705  0.01912332 -0.05737647 -0.01763164 -0.00130861]\n",
            " [ 0.01369244 -0.00498725  0.03146836  0.00930888 -0.00539206]\n",
            " [-0.02034717  0.01597179 -0.00030489 -0.00297337  0.0158022 ]\n",
            " [-0.0172572  -0.00425139 -0.00539057  0.00299691  0.01039294]], shape=(5, 5), dtype=float32)\n",
            "tf.Tensor(\n",
            "[[        nan  0.39514455 -2.7283134          nan -2.3101294 ]\n",
            " [-0.5255598  -0.52285945         nan         nan         nan]\n",
            " [-0.44076362         nan  0.61876476 -0.5659126          nan]\n",
            " [        nan  0.23251635         nan         nan  0.42710513]\n",
            " [        nan         nan         nan -1.1373451   0.12471979]], shape=(5, 5), dtype=float32)\n"
          ]
        }
      ]
    },
    {
      "cell_type": "markdown",
      "source": [
        "minimal variabel random tensor"
      ],
      "metadata": {
        "id": "5iAOmWpjsWEf"
      }
    },
    {
      "cell_type": "code",
      "source": [
        "argmin_random = tf.random.normal([5,5])\n",
        "print(\"input nilai random tensor:\",argmin_random.numpy())\n",
        "min_random_1 = tf.argmin(argmin_random, axis = 0)\n",
        "min_random_2 = tf.argmin(argmin_random, axis = 1)\n",
        "print(\"minimum  kolom:\",min_random_1.numpy())\n",
        "print(\"minimum baris:\",min_random_2.numpy())"
      ],
      "metadata": {
        "colab": {
          "base_uri": "https://localhost:8080/"
        },
        "id": "RcZin2qaoBql",
        "outputId": "4b531bae-8262-455d-d00c-65e9e78e9a6d"
      },
      "execution_count": 32,
      "outputs": [
        {
          "output_type": "stream",
          "name": "stdout",
          "text": [
            "input nilai random tensor: [[-8.3187354e-01 -1.6663276e-01 -1.0227603e+00  1.1154273e+00\n",
            "  -1.5401505e+00]\n",
            " [ 1.1667961e+00  1.1972224e+00 -6.0550570e-01  2.1365252e+00\n",
            "   9.2129959e-03]\n",
            " [ 7.2915020e-04  7.2323895e-01  2.3559124e+00 -1.4757367e+00\n",
            "  -7.6721042e-01]\n",
            " [ 1.4862822e+00  5.7590759e-01 -4.9723676e-01  1.0523846e+00\n",
            "   1.5885700e-01]\n",
            " [-4.7553068e-01  1.9022655e-01 -5.3307408e-01 -1.7528910e-03\n",
            "   4.4860047e-01]]\n",
            "minimum  kolom: [0 0 0 2 0]\n",
            "minimum baris: [4 2 3 2 2]\n"
          ]
        }
      ]
    },
    {
      "cell_type": "markdown",
      "source": [],
      "metadata": {
        "id": "09G-c-rEsdOE"
      }
    },
    {
      "cell_type": "markdown",
      "source": [
        "maksimal variabel random tensr"
      ],
      "metadata": {
        "id": "aGsPExglsakS"
      }
    },
    {
      "cell_type": "code",
      "source": [
        "argmax_random = tf.random.normal([5,5])\n",
        "print(\"input nilai random tensor:\",argmax_random.numpy())\n",
        "max_random_1 = tf.argmax(argmax_random, axis = 0)\n",
        "max_random_2 = tf.argmax(argmax_random, axis = 1)\n",
        "print(\"maximum  kolom:\",max_random_1.numpy())\n",
        "print(\"maximum  baris:\",max_random_2.numpy())"
      ],
      "metadata": {
        "colab": {
          "base_uri": "https://localhost:8080/"
        },
        "id": "hT2vDrD6pOdA",
        "outputId": "e9b39879-81fb-4b52-8148-5217dd25cb92"
      },
      "execution_count": 33,
      "outputs": [
        {
          "output_type": "stream",
          "name": "stdout",
          "text": [
            "input nilai random tensor: [[-0.94948053  1.4503782   0.15042911 -0.05650275  0.6821406 ]\n",
            " [-0.8233773   1.0154779   0.360747    1.2136923   0.15672112]\n",
            " [-0.9829058   0.09580301  0.5180905   0.5234288  -1.5193932 ]\n",
            " [-1.7666095  -2.3131227   0.30660167 -0.95632076  0.7514335 ]\n",
            " [ 1.0150648  -0.5964415  -1.1884435  -0.23886323  0.9556259 ]]\n",
            "maximum  kolom: [4 0 2 1 4]\n",
            "maximum  baris: [1 3 3 4 0]\n"
          ]
        }
      ]
    },
    {
      "cell_type": "markdown",
      "source": [
        "sorting kedua variabel deskending"
      ],
      "metadata": {
        "id": "e0aIvB5fse30"
      }
    },
    {
      "cell_type": "code",
      "source": [
        "random_tensor = tf.random.normal([5,5], mean=0, stddev=1, seed=1)\n",
        "print(\"input random tensor:\",random_tensor.numpy())\n",
        "p_tensor = tf.constant([ 11, 13, 17, 19, 23, 29, 31, 37, 41, 43, 47, 53, 59, 61, 71, 73, 79, 83, 89,97, 101,103,105,107,109], shape=[5, 5], dtype=tf.float32)\n",
        "p_tensor\n",
        "print(\"input prime tensor:\",p_tensor.numpy())\n",
        "sorted_random = tf.sort(random_tensor, direction = \"DESCENDING\")\n",
        "print(\"sorting dengan descending (random):\",sorted_random.numpy())\n",
        "sorted_prime = tf.sort(p_tensor, direction = \"DESCENDING\")\n",
        "print(\"sorting dengan descending(prime):\",sorted_prime.numpy())"
      ],
      "metadata": {
        "colab": {
          "base_uri": "https://localhost:8080/"
        },
        "id": "kIEcrNQ2pV8N",
        "outputId": "c903bb2a-ca40-4940-d8c9-cedd4e4a4f9f"
      },
      "execution_count": 44,
      "outputs": [
        {
          "output_type": "stream",
          "name": "stdout",
          "text": [
            "input random tensor: [[ 0.84333754 -1.7211728  -0.32960904  1.0788107  -1.6626061 ]\n",
            " [ 0.6971222   0.46777618 -1.2562007  -1.6510495  -0.18414494]\n",
            " [-1.2479274   1.5249633  -0.40648946  1.8363605   0.02757771]\n",
            " [-0.83237827  0.6233228  -0.02841046 -1.3248721   0.07207767]\n",
            " [-0.7539529  -0.9860456   0.9800038   0.57062733 -0.45596495]]\n",
            "input prime tensor: [[ 11.  13.  17.  19.  23.]\n",
            " [ 29.  31.  37.  41.  43.]\n",
            " [ 47.  53.  59.  61.  71.]\n",
            " [ 73.  79.  83.  89.  97.]\n",
            " [101. 103. 105. 107. 109.]]\n",
            "sorting dengan descending (random): [[ 1.0788107   0.84333754 -0.32960904 -1.6626061  -1.7211728 ]\n",
            " [ 0.6971222   0.46777618 -0.18414494 -1.2562007  -1.6510495 ]\n",
            " [ 1.8363605   1.5249633   0.02757771 -0.40648946 -1.2479274 ]\n",
            " [ 0.6233228   0.07207767 -0.02841046 -0.83237827 -1.3248721 ]\n",
            " [ 0.9800038   0.57062733 -0.45596495 -0.7539529  -0.9860456 ]]\n",
            "sorting dengan descending(prime): [[ 23.  19.  17.  13.  11.]\n",
            " [ 43.  41.  37.  31.  29.]\n",
            " [ 71.  61.  59.  53.  47.]\n",
            " [ 97.  89.  83.  79.  73.]\n",
            " [109. 107. 105. 103. 101.]]\n"
          ]
        }
      ]
    }
  ]
}