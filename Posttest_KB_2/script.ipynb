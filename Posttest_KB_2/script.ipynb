{
  "nbformat": 4,
  "nbformat_minor": 0,
  "metadata": {
    "colab": {
      "provenance": []
    },
    "kernelspec": {
      "name": "python3",
      "display_name": "Python 3"
    },
    "language_info": {
      "name": "python"
    }
  },
  "cells": [
    {
      "cell_type": "markdown",
      "source": [
        "# Posttes 2 "
      ],
      "metadata": {
        "id": "2hWMlkBdMJhL"
      }
    },
    {
      "cell_type": "markdown",
      "source": [
        "#### Import Library"
      ],
      "metadata": {
        "id": "0SFDUFMXQ-J2"
      }
    },
    {
      "cell_type": "code",
      "execution_count": 45,
      "metadata": {
        "id": "SCmxA-NYcVvr"
      },
      "outputs": [],
      "source": [
        "import pandas as pd"
      ]
    },
    {
      "cell_type": "markdown",
      "source": [
        "#### Load Data CSV"
      ],
      "metadata": {
        "id": "Yjy5Zg_5RClt"
      }
    },
    {
      "cell_type": "code",
      "source": [
        "data = pd.read_csv('MEN_SHOES.csv')"
      ],
      "metadata": {
        "id": "izbq4COTGn1A"
      },
      "execution_count": 46,
      "outputs": []
    },
    {
      "cell_type": "markdown",
      "source": [
        "#### Tampilkan Data Men_Shoes"
      ],
      "metadata": {
        "id": "vc9liQd6RFt_"
      }
    },
    {
      "cell_type": "code",
      "source": [
        "data"
      ],
      "metadata": {
        "colab": {
          "base_uri": "https://localhost:8080/",
          "height": 424
        },
        "id": "191PW_DpHGIL",
        "outputId": "ada14d2a-7bd0-440c-a8d1-ea07fe618f4c"
      },
      "execution_count": 47,
      "outputs": [
        {
          "output_type": "execute_result",
          "data": {
            "text/plain": [
              "      Brand_Name How_Many_Sold Current_Price  \\\n",
              "0          ASIAN         2,242        ₹1,098   \n",
              "1          ASIAN           240          ₹674   \n",
              "2          ASIAN        16,662          ₹588   \n",
              "3          ASIAN           135          ₹599   \n",
              "4         Reebok           240          ₹982   \n",
              "...          ...           ...           ...   \n",
              "23935     Campus           198          ₹623   \n",
              "23936  Wakefield            49          ₹399   \n",
              "23937       URJO           557          ₹839   \n",
              "23938    FEETEES            63          ₹349   \n",
              "23939       FURO             2        ₹1,299   \n",
              "\n",
              "                                         Product_details  RATING  \n",
              "0      Oxygen-01 Sports Running,Walking & Gym Shoes w...     3.8  \n",
              "1      Men's Express-08 Sports Running,Walking,Gym,Tr...     4.0  \n",
              "2      Men's Cosko Sports Running,Walking,Gym,Trainin...     3.8  \n",
              "3      Wind-03 Sports Running,Walking & Gym Shoes wit...     4.0  \n",
              "4                Men's Velocity Runner Lp Running Shoe       4.0  \n",
              "...                                                  ...     ...  \n",
              "23935                   Men's HARVEL PRO Running Shoes       4.0  \n",
              "23936        Stylish Running Sports Shoes for MEN-2010       3.4  \n",
              "23937                               Mens Running Shoes       4.2  \n",
              "23938  Nexon Men's Casual Eva Socks Knitted Running S...     3.6  \n",
              "23939  Low Ankle Running Sports Shoes for Men (O-5033)       3.0  \n",
              "\n",
              "[23940 rows x 5 columns]"
            ],
            "text/html": [
              "\n",
              "  <div id=\"df-b46bc1e9-7036-4683-ac73-73266ecd847c\">\n",
              "    <div class=\"colab-df-container\">\n",
              "      <div>\n",
              "<style scoped>\n",
              "    .dataframe tbody tr th:only-of-type {\n",
              "        vertical-align: middle;\n",
              "    }\n",
              "\n",
              "    .dataframe tbody tr th {\n",
              "        vertical-align: top;\n",
              "    }\n",
              "\n",
              "    .dataframe thead th {\n",
              "        text-align: right;\n",
              "    }\n",
              "</style>\n",
              "<table border=\"1\" class=\"dataframe\">\n",
              "  <thead>\n",
              "    <tr style=\"text-align: right;\">\n",
              "      <th></th>\n",
              "      <th>Brand_Name</th>\n",
              "      <th>How_Many_Sold</th>\n",
              "      <th>Current_Price</th>\n",
              "      <th>Product_details</th>\n",
              "      <th>RATING</th>\n",
              "    </tr>\n",
              "  </thead>\n",
              "  <tbody>\n",
              "    <tr>\n",
              "      <th>0</th>\n",
              "      <td>ASIAN</td>\n",
              "      <td>2,242</td>\n",
              "      <td>₹1,098</td>\n",
              "      <td>Oxygen-01 Sports Running,Walking &amp; Gym Shoes w...</td>\n",
              "      <td>3.8</td>\n",
              "    </tr>\n",
              "    <tr>\n",
              "      <th>1</th>\n",
              "      <td>ASIAN</td>\n",
              "      <td>240</td>\n",
              "      <td>₹674</td>\n",
              "      <td>Men's Express-08 Sports Running,Walking,Gym,Tr...</td>\n",
              "      <td>4.0</td>\n",
              "    </tr>\n",
              "    <tr>\n",
              "      <th>2</th>\n",
              "      <td>ASIAN</td>\n",
              "      <td>16,662</td>\n",
              "      <td>₹588</td>\n",
              "      <td>Men's Cosko Sports Running,Walking,Gym,Trainin...</td>\n",
              "      <td>3.8</td>\n",
              "    </tr>\n",
              "    <tr>\n",
              "      <th>3</th>\n",
              "      <td>ASIAN</td>\n",
              "      <td>135</td>\n",
              "      <td>₹599</td>\n",
              "      <td>Wind-03 Sports Running,Walking &amp; Gym Shoes wit...</td>\n",
              "      <td>4.0</td>\n",
              "    </tr>\n",
              "    <tr>\n",
              "      <th>4</th>\n",
              "      <td>Reebok</td>\n",
              "      <td>240</td>\n",
              "      <td>₹982</td>\n",
              "      <td>Men's Velocity Runner Lp Running Shoe</td>\n",
              "      <td>4.0</td>\n",
              "    </tr>\n",
              "    <tr>\n",
              "      <th>...</th>\n",
              "      <td>...</td>\n",
              "      <td>...</td>\n",
              "      <td>...</td>\n",
              "      <td>...</td>\n",
              "      <td>...</td>\n",
              "    </tr>\n",
              "    <tr>\n",
              "      <th>23935</th>\n",
              "      <td>Campus</td>\n",
              "      <td>198</td>\n",
              "      <td>₹623</td>\n",
              "      <td>Men's HARVEL PRO Running Shoes</td>\n",
              "      <td>4.0</td>\n",
              "    </tr>\n",
              "    <tr>\n",
              "      <th>23936</th>\n",
              "      <td>Wakefield</td>\n",
              "      <td>49</td>\n",
              "      <td>₹399</td>\n",
              "      <td>Stylish Running Sports Shoes for MEN-2010</td>\n",
              "      <td>3.4</td>\n",
              "    </tr>\n",
              "    <tr>\n",
              "      <th>23937</th>\n",
              "      <td>URJO</td>\n",
              "      <td>557</td>\n",
              "      <td>₹839</td>\n",
              "      <td>Mens Running Shoes</td>\n",
              "      <td>4.2</td>\n",
              "    </tr>\n",
              "    <tr>\n",
              "      <th>23938</th>\n",
              "      <td>FEETEES</td>\n",
              "      <td>63</td>\n",
              "      <td>₹349</td>\n",
              "      <td>Nexon Men's Casual Eva Socks Knitted Running S...</td>\n",
              "      <td>3.6</td>\n",
              "    </tr>\n",
              "    <tr>\n",
              "      <th>23939</th>\n",
              "      <td>FURO</td>\n",
              "      <td>2</td>\n",
              "      <td>₹1,299</td>\n",
              "      <td>Low Ankle Running Sports Shoes for Men (O-5033)</td>\n",
              "      <td>3.0</td>\n",
              "    </tr>\n",
              "  </tbody>\n",
              "</table>\n",
              "<p>23940 rows × 5 columns</p>\n",
              "</div>\n",
              "      <button class=\"colab-df-convert\" onclick=\"convertToInteractive('df-b46bc1e9-7036-4683-ac73-73266ecd847c')\"\n",
              "              title=\"Convert this dataframe to an interactive table.\"\n",
              "              style=\"display:none;\">\n",
              "        \n",
              "  <svg xmlns=\"http://www.w3.org/2000/svg\" height=\"24px\"viewBox=\"0 0 24 24\"\n",
              "       width=\"24px\">\n",
              "    <path d=\"M0 0h24v24H0V0z\" fill=\"none\"/>\n",
              "    <path d=\"M18.56 5.44l.94 2.06.94-2.06 2.06-.94-2.06-.94-.94-2.06-.94 2.06-2.06.94zm-11 1L8.5 8.5l.94-2.06 2.06-.94-2.06-.94L8.5 2.5l-.94 2.06-2.06.94zm10 10l.94 2.06.94-2.06 2.06-.94-2.06-.94-.94-2.06-.94 2.06-2.06.94z\"/><path d=\"M17.41 7.96l-1.37-1.37c-.4-.4-.92-.59-1.43-.59-.52 0-1.04.2-1.43.59L10.3 9.45l-7.72 7.72c-.78.78-.78 2.05 0 2.83L4 21.41c.39.39.9.59 1.41.59.51 0 1.02-.2 1.41-.59l7.78-7.78 2.81-2.81c.8-.78.8-2.07 0-2.86zM5.41 20L4 18.59l7.72-7.72 1.47 1.35L5.41 20z\"/>\n",
              "  </svg>\n",
              "      </button>\n",
              "      \n",
              "  <style>\n",
              "    .colab-df-container {\n",
              "      display:flex;\n",
              "      flex-wrap:wrap;\n",
              "      gap: 12px;\n",
              "    }\n",
              "\n",
              "    .colab-df-convert {\n",
              "      background-color: #E8F0FE;\n",
              "      border: none;\n",
              "      border-radius: 50%;\n",
              "      cursor: pointer;\n",
              "      display: none;\n",
              "      fill: #1967D2;\n",
              "      height: 32px;\n",
              "      padding: 0 0 0 0;\n",
              "      width: 32px;\n",
              "    }\n",
              "\n",
              "    .colab-df-convert:hover {\n",
              "      background-color: #E2EBFA;\n",
              "      box-shadow: 0px 1px 2px rgba(60, 64, 67, 0.3), 0px 1px 3px 1px rgba(60, 64, 67, 0.15);\n",
              "      fill: #174EA6;\n",
              "    }\n",
              "\n",
              "    [theme=dark] .colab-df-convert {\n",
              "      background-color: #3B4455;\n",
              "      fill: #D2E3FC;\n",
              "    }\n",
              "\n",
              "    [theme=dark] .colab-df-convert:hover {\n",
              "      background-color: #434B5C;\n",
              "      box-shadow: 0px 1px 3px 1px rgba(0, 0, 0, 0.15);\n",
              "      filter: drop-shadow(0px 1px 2px rgba(0, 0, 0, 0.3));\n",
              "      fill: #FFFFFF;\n",
              "    }\n",
              "  </style>\n",
              "\n",
              "      <script>\n",
              "        const buttonEl =\n",
              "          document.querySelector('#df-b46bc1e9-7036-4683-ac73-73266ecd847c button.colab-df-convert');\n",
              "        buttonEl.style.display =\n",
              "          google.colab.kernel.accessAllowed ? 'block' : 'none';\n",
              "\n",
              "        async function convertToInteractive(key) {\n",
              "          const element = document.querySelector('#df-b46bc1e9-7036-4683-ac73-73266ecd847c');\n",
              "          const dataTable =\n",
              "            await google.colab.kernel.invokeFunction('convertToInteractive',\n",
              "                                                     [key], {});\n",
              "          if (!dataTable) return;\n",
              "\n",
              "          const docLinkHtml = 'Like what you see? Visit the ' +\n",
              "            '<a target=\"_blank\" href=https://colab.research.google.com/notebooks/data_table.ipynb>data table notebook</a>'\n",
              "            + ' to learn more about interactive tables.';\n",
              "          element.innerHTML = '';\n",
              "          dataTable['output_type'] = 'display_data';\n",
              "          await google.colab.output.renderOutput(dataTable, element);\n",
              "          const docLink = document.createElement('div');\n",
              "          docLink.innerHTML = docLinkHtml;\n",
              "          element.appendChild(docLink);\n",
              "        }\n",
              "      </script>\n",
              "    </div>\n",
              "  </div>\n",
              "  "
            ]
          },
          "metadata": {},
          "execution_count": 47
        }
      ]
    },
    {
      "cell_type": "markdown",
      "source": [
        "#### Menampilkan Informasi data\n",
        "\n",
        "Menampilkan variabel,dan type data"
      ],
      "metadata": {
        "id": "Ex3WeC6ZRLnX"
      }
    },
    {
      "cell_type": "code",
      "source": [
        "data.info()"
      ],
      "metadata": {
        "colab": {
          "base_uri": "https://localhost:8080/"
        },
        "id": "fZi3Z33VHMkt",
        "outputId": "d505aeb2-1ab5-4e0c-f0de-621b1be82035"
      },
      "execution_count": 48,
      "outputs": [
        {
          "output_type": "stream",
          "name": "stdout",
          "text": [
            "<class 'pandas.core.frame.DataFrame'>\n",
            "RangeIndex: 23940 entries, 0 to 23939\n",
            "Data columns (total 5 columns):\n",
            " #   Column           Non-Null Count  Dtype  \n",
            "---  ------           --------------  -----  \n",
            " 0   Brand_Name       23940 non-null  object \n",
            " 1   How_Many_Sold    23940 non-null  object \n",
            " 2   Current_Price    23142 non-null  object \n",
            " 3   Product_details  23940 non-null  object \n",
            " 4   RATING           23940 non-null  float64\n",
            "dtypes: float64(1), object(4)\n",
            "memory usage: 935.3+ KB\n"
          ]
        }
      ]
    },
    {
      "cell_type": "markdown",
      "source": [
        "####  Menampilkan nilai rata-rata, standar deviasi, nilai minimum, nilai maksimum, Q1, Q2, dan Q3"
      ],
      "metadata": {
        "id": "7Se3m_rLRhQV"
      }
    },
    {
      "cell_type": "code",
      "source": [
        "data.describe()"
      ],
      "metadata": {
        "colab": {
          "base_uri": "https://localhost:8080/",
          "height": 300
        },
        "id": "wdxhXarOHkfg",
        "outputId": "2b9e0308-f670-4f5d-e0d1-cf84e2d3326a"
      },
      "execution_count": 49,
      "outputs": [
        {
          "output_type": "execute_result",
          "data": {
            "text/plain": [
              "             RATING\n",
              "count  23940.000000\n",
              "mean       3.836667\n",
              "std        0.410686\n",
              "min        2.400000\n",
              "25%        3.600000\n",
              "50%        4.000000\n",
              "75%        4.000000\n",
              "max        4.600000"
            ],
            "text/html": [
              "\n",
              "  <div id=\"df-d20a1fe1-6de5-406a-9040-b369f6d61f84\">\n",
              "    <div class=\"colab-df-container\">\n",
              "      <div>\n",
              "<style scoped>\n",
              "    .dataframe tbody tr th:only-of-type {\n",
              "        vertical-align: middle;\n",
              "    }\n",
              "\n",
              "    .dataframe tbody tr th {\n",
              "        vertical-align: top;\n",
              "    }\n",
              "\n",
              "    .dataframe thead th {\n",
              "        text-align: right;\n",
              "    }\n",
              "</style>\n",
              "<table border=\"1\" class=\"dataframe\">\n",
              "  <thead>\n",
              "    <tr style=\"text-align: right;\">\n",
              "      <th></th>\n",
              "      <th>RATING</th>\n",
              "    </tr>\n",
              "  </thead>\n",
              "  <tbody>\n",
              "    <tr>\n",
              "      <th>count</th>\n",
              "      <td>23940.000000</td>\n",
              "    </tr>\n",
              "    <tr>\n",
              "      <th>mean</th>\n",
              "      <td>3.836667</td>\n",
              "    </tr>\n",
              "    <tr>\n",
              "      <th>std</th>\n",
              "      <td>0.410686</td>\n",
              "    </tr>\n",
              "    <tr>\n",
              "      <th>min</th>\n",
              "      <td>2.400000</td>\n",
              "    </tr>\n",
              "    <tr>\n",
              "      <th>25%</th>\n",
              "      <td>3.600000</td>\n",
              "    </tr>\n",
              "    <tr>\n",
              "      <th>50%</th>\n",
              "      <td>4.000000</td>\n",
              "    </tr>\n",
              "    <tr>\n",
              "      <th>75%</th>\n",
              "      <td>4.000000</td>\n",
              "    </tr>\n",
              "    <tr>\n",
              "      <th>max</th>\n",
              "      <td>4.600000</td>\n",
              "    </tr>\n",
              "  </tbody>\n",
              "</table>\n",
              "</div>\n",
              "      <button class=\"colab-df-convert\" onclick=\"convertToInteractive('df-d20a1fe1-6de5-406a-9040-b369f6d61f84')\"\n",
              "              title=\"Convert this dataframe to an interactive table.\"\n",
              "              style=\"display:none;\">\n",
              "        \n",
              "  <svg xmlns=\"http://www.w3.org/2000/svg\" height=\"24px\"viewBox=\"0 0 24 24\"\n",
              "       width=\"24px\">\n",
              "    <path d=\"M0 0h24v24H0V0z\" fill=\"none\"/>\n",
              "    <path d=\"M18.56 5.44l.94 2.06.94-2.06 2.06-.94-2.06-.94-.94-2.06-.94 2.06-2.06.94zm-11 1L8.5 8.5l.94-2.06 2.06-.94-2.06-.94L8.5 2.5l-.94 2.06-2.06.94zm10 10l.94 2.06.94-2.06 2.06-.94-2.06-.94-.94-2.06-.94 2.06-2.06.94z\"/><path d=\"M17.41 7.96l-1.37-1.37c-.4-.4-.92-.59-1.43-.59-.52 0-1.04.2-1.43.59L10.3 9.45l-7.72 7.72c-.78.78-.78 2.05 0 2.83L4 21.41c.39.39.9.59 1.41.59.51 0 1.02-.2 1.41-.59l7.78-7.78 2.81-2.81c.8-.78.8-2.07 0-2.86zM5.41 20L4 18.59l7.72-7.72 1.47 1.35L5.41 20z\"/>\n",
              "  </svg>\n",
              "      </button>\n",
              "      \n",
              "  <style>\n",
              "    .colab-df-container {\n",
              "      display:flex;\n",
              "      flex-wrap:wrap;\n",
              "      gap: 12px;\n",
              "    }\n",
              "\n",
              "    .colab-df-convert {\n",
              "      background-color: #E8F0FE;\n",
              "      border: none;\n",
              "      border-radius: 50%;\n",
              "      cursor: pointer;\n",
              "      display: none;\n",
              "      fill: #1967D2;\n",
              "      height: 32px;\n",
              "      padding: 0 0 0 0;\n",
              "      width: 32px;\n",
              "    }\n",
              "\n",
              "    .colab-df-convert:hover {\n",
              "      background-color: #E2EBFA;\n",
              "      box-shadow: 0px 1px 2px rgba(60, 64, 67, 0.3), 0px 1px 3px 1px rgba(60, 64, 67, 0.15);\n",
              "      fill: #174EA6;\n",
              "    }\n",
              "\n",
              "    [theme=dark] .colab-df-convert {\n",
              "      background-color: #3B4455;\n",
              "      fill: #D2E3FC;\n",
              "    }\n",
              "\n",
              "    [theme=dark] .colab-df-convert:hover {\n",
              "      background-color: #434B5C;\n",
              "      box-shadow: 0px 1px 3px 1px rgba(0, 0, 0, 0.15);\n",
              "      filter: drop-shadow(0px 1px 2px rgba(0, 0, 0, 0.3));\n",
              "      fill: #FFFFFF;\n",
              "    }\n",
              "  </style>\n",
              "\n",
              "      <script>\n",
              "        const buttonEl =\n",
              "          document.querySelector('#df-d20a1fe1-6de5-406a-9040-b369f6d61f84 button.colab-df-convert');\n",
              "        buttonEl.style.display =\n",
              "          google.colab.kernel.accessAllowed ? 'block' : 'none';\n",
              "\n",
              "        async function convertToInteractive(key) {\n",
              "          const element = document.querySelector('#df-d20a1fe1-6de5-406a-9040-b369f6d61f84');\n",
              "          const dataTable =\n",
              "            await google.colab.kernel.invokeFunction('convertToInteractive',\n",
              "                                                     [key], {});\n",
              "          if (!dataTable) return;\n",
              "\n",
              "          const docLinkHtml = 'Like what you see? Visit the ' +\n",
              "            '<a target=\"_blank\" href=https://colab.research.google.com/notebooks/data_table.ipynb>data table notebook</a>'\n",
              "            + ' to learn more about interactive tables.';\n",
              "          element.innerHTML = '';\n",
              "          dataTable['output_type'] = 'display_data';\n",
              "          await google.colab.output.renderOutput(dataTable, element);\n",
              "          const docLink = document.createElement('div');\n",
              "          docLink.innerHTML = docLinkHtml;\n",
              "          element.appendChild(docLink);\n",
              "        }\n",
              "      </script>\n",
              "    </div>\n",
              "  </div>\n",
              "  "
            ]
          },
          "metadata": {},
          "execution_count": 49
        }
      ]
    },
    {
      "cell_type": "markdown",
      "source": [],
      "metadata": {
        "id": "2uNvCyL-RjN3"
      }
    },
    {
      "cell_type": "code",
      "source": [
        "for index, item in enumerate (data) :\n",
        "    if str (item) == \"float64\" :\n",
        "        data.append (data[index])\n",
        "    print (data)"
      ],
      "metadata": {
        "colab": {
          "base_uri": "https://localhost:8080/"
        },
        "id": "snQZAGgBHsjb",
        "outputId": "decbd4a6-f08d-468d-be9b-081a29b68ed0"
      },
      "execution_count": 60,
      "outputs": [
        {
          "output_type": "stream",
          "name": "stdout",
          "text": [
            "      Brand_Name How_Many_Sold Current_Price  \\\n",
            "0          ASIAN         2,242        ₹1,098   \n",
            "1          ASIAN           240          ₹674   \n",
            "2          ASIAN        16,662          ₹588   \n",
            "3          ASIAN           135          ₹599   \n",
            "4         Reebok           240          ₹982   \n",
            "...          ...           ...           ...   \n",
            "23935     Campus           198          ₹623   \n",
            "23936  Wakefield            49          ₹399   \n",
            "23937       URJO           557          ₹839   \n",
            "23938    FEETEES            63          ₹349   \n",
            "23939       FURO             2        ₹1,299   \n",
            "\n",
            "                                         Product_details  RATING  \n",
            "0      Oxygen-01 Sports Running,Walking & Gym Shoes w...     3.8  \n",
            "1      Men's Express-08 Sports Running,Walking,Gym,Tr...     4.0  \n",
            "2      Men's Cosko Sports Running,Walking,Gym,Trainin...     3.8  \n",
            "3      Wind-03 Sports Running,Walking & Gym Shoes wit...     4.0  \n",
            "4                Men's Velocity Runner Lp Running Shoe       4.0  \n",
            "...                                                  ...     ...  \n",
            "23935                   Men's HARVEL PRO Running Shoes       4.0  \n",
            "23936        Stylish Running Sports Shoes for MEN-2010       3.4  \n",
            "23937                               Mens Running Shoes       4.2  \n",
            "23938  Nexon Men's Casual Eva Socks Knitted Running S...     3.6  \n",
            "23939  Low Ankle Running Sports Shoes for Men (O-5033)       3.0  \n",
            "\n",
            "[23940 rows x 5 columns]\n",
            "      Brand_Name How_Many_Sold Current_Price  \\\n",
            "0          ASIAN         2,242        ₹1,098   \n",
            "1          ASIAN           240          ₹674   \n",
            "2          ASIAN        16,662          ₹588   \n",
            "3          ASIAN           135          ₹599   \n",
            "4         Reebok           240          ₹982   \n",
            "...          ...           ...           ...   \n",
            "23935     Campus           198          ₹623   \n",
            "23936  Wakefield            49          ₹399   \n",
            "23937       URJO           557          ₹839   \n",
            "23938    FEETEES            63          ₹349   \n",
            "23939       FURO             2        ₹1,299   \n",
            "\n",
            "                                         Product_details  RATING  \n",
            "0      Oxygen-01 Sports Running,Walking & Gym Shoes w...     3.8  \n",
            "1      Men's Express-08 Sports Running,Walking,Gym,Tr...     4.0  \n",
            "2      Men's Cosko Sports Running,Walking,Gym,Trainin...     3.8  \n",
            "3      Wind-03 Sports Running,Walking & Gym Shoes wit...     4.0  \n",
            "4                Men's Velocity Runner Lp Running Shoe       4.0  \n",
            "...                                                  ...     ...  \n",
            "23935                   Men's HARVEL PRO Running Shoes       4.0  \n",
            "23936        Stylish Running Sports Shoes for MEN-2010       3.4  \n",
            "23937                               Mens Running Shoes       4.2  \n",
            "23938  Nexon Men's Casual Eva Socks Knitted Running S...     3.6  \n",
            "23939  Low Ankle Running Sports Shoes for Men (O-5033)       3.0  \n",
            "\n",
            "[23940 rows x 5 columns]\n",
            "      Brand_Name How_Many_Sold Current_Price  \\\n",
            "0          ASIAN         2,242        ₹1,098   \n",
            "1          ASIAN           240          ₹674   \n",
            "2          ASIAN        16,662          ₹588   \n",
            "3          ASIAN           135          ₹599   \n",
            "4         Reebok           240          ₹982   \n",
            "...          ...           ...           ...   \n",
            "23935     Campus           198          ₹623   \n",
            "23936  Wakefield            49          ₹399   \n",
            "23937       URJO           557          ₹839   \n",
            "23938    FEETEES            63          ₹349   \n",
            "23939       FURO             2        ₹1,299   \n",
            "\n",
            "                                         Product_details  RATING  \n",
            "0      Oxygen-01 Sports Running,Walking & Gym Shoes w...     3.8  \n",
            "1      Men's Express-08 Sports Running,Walking,Gym,Tr...     4.0  \n",
            "2      Men's Cosko Sports Running,Walking,Gym,Trainin...     3.8  \n",
            "3      Wind-03 Sports Running,Walking & Gym Shoes wit...     4.0  \n",
            "4                Men's Velocity Runner Lp Running Shoe       4.0  \n",
            "...                                                  ...     ...  \n",
            "23935                   Men's HARVEL PRO Running Shoes       4.0  \n",
            "23936        Stylish Running Sports Shoes for MEN-2010       3.4  \n",
            "23937                               Mens Running Shoes       4.2  \n",
            "23938  Nexon Men's Casual Eva Socks Knitted Running S...     3.6  \n",
            "23939  Low Ankle Running Sports Shoes for Men (O-5033)       3.0  \n",
            "\n",
            "[23940 rows x 5 columns]\n",
            "      Brand_Name How_Many_Sold Current_Price  \\\n",
            "0          ASIAN         2,242        ₹1,098   \n",
            "1          ASIAN           240          ₹674   \n",
            "2          ASIAN        16,662          ₹588   \n",
            "3          ASIAN           135          ₹599   \n",
            "4         Reebok           240          ₹982   \n",
            "...          ...           ...           ...   \n",
            "23935     Campus           198          ₹623   \n",
            "23936  Wakefield            49          ₹399   \n",
            "23937       URJO           557          ₹839   \n",
            "23938    FEETEES            63          ₹349   \n",
            "23939       FURO             2        ₹1,299   \n",
            "\n",
            "                                         Product_details  RATING  \n",
            "0      Oxygen-01 Sports Running,Walking & Gym Shoes w...     3.8  \n",
            "1      Men's Express-08 Sports Running,Walking,Gym,Tr...     4.0  \n",
            "2      Men's Cosko Sports Running,Walking,Gym,Trainin...     3.8  \n",
            "3      Wind-03 Sports Running,Walking & Gym Shoes wit...     4.0  \n",
            "4                Men's Velocity Runner Lp Running Shoe       4.0  \n",
            "...                                                  ...     ...  \n",
            "23935                   Men's HARVEL PRO Running Shoes       4.0  \n",
            "23936        Stylish Running Sports Shoes for MEN-2010       3.4  \n",
            "23937                               Mens Running Shoes       4.2  \n",
            "23938  Nexon Men's Casual Eva Socks Knitted Running S...     3.6  \n",
            "23939  Low Ankle Running Sports Shoes for Men (O-5033)       3.0  \n",
            "\n",
            "[23940 rows x 5 columns]\n",
            "      Brand_Name How_Many_Sold Current_Price  \\\n",
            "0          ASIAN         2,242        ₹1,098   \n",
            "1          ASIAN           240          ₹674   \n",
            "2          ASIAN        16,662          ₹588   \n",
            "3          ASIAN           135          ₹599   \n",
            "4         Reebok           240          ₹982   \n",
            "...          ...           ...           ...   \n",
            "23935     Campus           198          ₹623   \n",
            "23936  Wakefield            49          ₹399   \n",
            "23937       URJO           557          ₹839   \n",
            "23938    FEETEES            63          ₹349   \n",
            "23939       FURO             2        ₹1,299   \n",
            "\n",
            "                                         Product_details  RATING  \n",
            "0      Oxygen-01 Sports Running,Walking & Gym Shoes w...     3.8  \n",
            "1      Men's Express-08 Sports Running,Walking,Gym,Tr...     4.0  \n",
            "2      Men's Cosko Sports Running,Walking,Gym,Trainin...     3.8  \n",
            "3      Wind-03 Sports Running,Walking & Gym Shoes wit...     4.0  \n",
            "4                Men's Velocity Runner Lp Running Shoe       4.0  \n",
            "...                                                  ...     ...  \n",
            "23935                   Men's HARVEL PRO Running Shoes       4.0  \n",
            "23936        Stylish Running Sports Shoes for MEN-2010       3.4  \n",
            "23937                               Mens Running Shoes       4.2  \n",
            "23938  Nexon Men's Casual Eva Socks Knitted Running S...     3.6  \n",
            "23939  Low Ankle Running Sports Shoes for Men (O-5033)       3.0  \n",
            "\n",
            "[23940 rows x 5 columns]\n"
          ]
        }
      ]
    },
    {
      "cell_type": "code",
      "source": [
        "listt = data\n",
        "for index, item in enumerate (listt) :\n",
        "    print (f\"{index}. {item}\")"
      ],
      "metadata": {
        "colab": {
          "base_uri": "https://localhost:8080/"
        },
        "id": "VOYk2fgDKY--",
        "outputId": "7324645c-f05f-4d90-baca-e4b2f7f4a3f8"
      },
      "execution_count": 51,
      "outputs": [
        {
          "output_type": "stream",
          "name": "stdout",
          "text": [
            "0. Brand_Name\n",
            "1. How_Many_Sold\n",
            "2. Current_Price\n",
            "3. Product_details\n",
            "4. RATING\n"
          ]
        }
      ]
    },
    {
      "cell_type": "markdown",
      "source": [
        "#### merubah desimal menjadi bulat"
      ],
      "metadata": {
        "id": "oF7c8nkLSz_a"
      }
    },
    {
      "cell_type": "code",
      "source": [
        "listt[\"RATING\"].head(10) /0.1"
      ],
      "metadata": {
        "colab": {
          "base_uri": "https://localhost:8080/"
        },
        "id": "oqQAWONUKhth",
        "outputId": "2b6822b6-ab35-4968-dc32-6f2c2d70a6ee"
      },
      "execution_count": 52,
      "outputs": [
        {
          "output_type": "execute_result",
          "data": {
            "text/plain": [
              "0    38.0\n",
              "1    40.0\n",
              "2    38.0\n",
              "3    40.0\n",
              "4    40.0\n",
              "5    46.0\n",
              "6    40.0\n",
              "7    24.0\n",
              "8    40.0\n",
              "9    36.0\n",
              "Name: RATING, dtype: float64"
            ]
          },
          "metadata": {},
          "execution_count": 52
        }
      ]
    },
    {
      "cell_type": "markdown",
      "source": [
        "#### menampilkan 10 record bertype data angka"
      ],
      "metadata": {
        "id": "bbgEX017TInB"
      }
    },
    {
      "cell_type": "code",
      "source": [
        "listt[\"RATING\"].head(10)"
      ],
      "metadata": {
        "colab": {
          "base_uri": "https://localhost:8080/"
        },
        "id": "S_IZJTL-PrWE",
        "outputId": "83700334-2e3f-4209-ec22-2bf006ef1128"
      },
      "execution_count": 53,
      "outputs": [
        {
          "output_type": "execute_result",
          "data": {
            "text/plain": [
              "0    3.8\n",
              "1    4.0\n",
              "2    3.8\n",
              "3    4.0\n",
              "4    4.0\n",
              "5    4.6\n",
              "6    4.0\n",
              "7    2.4\n",
              "8    4.0\n",
              "9    3.6\n",
              "Name: RATING, dtype: float64"
            ]
          },
          "metadata": {},
          "execution_count": 53
        }
      ]
    },
    {
      "cell_type": "markdown",
      "source": [
        "#### menyimpan variabel yang bertype angka ke dalam csv dan diberi nama \"hasil.csv\""
      ],
      "metadata": {
        "id": "UtKClLiIS81E"
      }
    },
    {
      "cell_type": "code",
      "source": [
        "df= listt[[\"RATING\"]].copy()"
      ],
      "metadata": {
        "id": "IiYubQGMP3Mw"
      },
      "execution_count": 54,
      "outputs": []
    },
    {
      "cell_type": "code",
      "source": [
        "df.to_csv(\"Hasil.csv\")"
      ],
      "metadata": {
        "id": "D7AoLio1QV_J"
      },
      "execution_count": 55,
      "outputs": []
    }
  ]
}